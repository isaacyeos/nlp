{
  "nbformat": 4,
  "nbformat_minor": 0,
  "metadata": {
    "colab": {
      "name": "GPT-2 Text-Generating Model SOTU w/ GPU",
      "provenance": [],
      "collapsed_sections": [],
      "include_colab_link": true
    },
    "kernelspec": {
      "name": "python3",
      "display_name": "Python 3"
    },
    "accelerator": "GPU"
  },
  "cells": [
    {
      "cell_type": "markdown",
      "metadata": {
        "id": "view-in-github",
        "colab_type": "text"
      },
      "source": [
        "<a href=\"https://colab.research.google.com/github/isaacyeos/nlp/blob/master/GPT_2_Text_Generating_Model_SOTU_w_GPU.ipynb\" target=\"_parent\"><img src=\"https://colab.research.google.com/assets/colab-badge.svg\" alt=\"Open In Colab\"/></a>"
      ]
    },
    {
      "cell_type": "markdown",
      "metadata": {
        "id": "H7LoMj4GA4n_",
        "colab_type": "text"
      },
      "source": [
        "#  Train a GPT-2 Text-Generating Model w/ GPU For Free \n",
        "\n",
        "**This is not using TensorFlow 2.0 beta**   \n",
        "You wil need TensorFlow >= 1.12 \n"
      ]
    },
    {
      "cell_type": "code",
      "metadata": {
        "id": "KBkpRgBCBS2_",
        "colab_type": "code",
        "outputId": "c47e04a0-e5c0-4580-f616-536a0a692731",
        "colab": {
          "base_uri": "https://localhost:8080/",
          "height": 343
        }
      },
      "source": [
        "!pip install -q tensorflow-gpu==1.13.1\n",
        "!pip install -q gpt_2_simple\n",
        "import gpt_2_simple as gpt2\n",
        "from datetime import datetime\n",
        "from google.colab import files"
      ],
      "execution_count": 1,
      "outputs": [
        {
          "output_type": "stream",
          "text": [
            "\u001b[K     |████████████████████████████████| 345.2MB 51kB/s \n",
            "\u001b[K     |████████████████████████████████| 3.2MB 33.3MB/s \n",
            "\u001b[K     |████████████████████████████████| 368kB 40.4MB/s \n",
            "\u001b[31mERROR: tensorflow 2.2.0 has requirement tensorboard<2.3.0,>=2.2.0, but you'll have tensorboard 1.13.1 which is incompatible.\u001b[0m\n",
            "\u001b[31mERROR: tensorflow 2.2.0 has requirement tensorflow-estimator<2.3.0,>=2.2.0, but you'll have tensorflow-estimator 1.13.0 which is incompatible.\u001b[0m\n",
            "\u001b[?25h  Building wheel for gpt-2-simple (setup.py) ... \u001b[?25l\u001b[?25hdone\n"
          ],
          "name": "stdout"
        },
        {
          "output_type": "stream",
          "text": [
            "/usr/local/lib/python3.6/dist-packages/tensorflow/python/framework/dtypes.py:526: FutureWarning: Passing (type, 1) or '1type' as a synonym of type is deprecated; in a future version of numpy, it will be understood as (type, (1,)) / '(1,)type'.\n",
            "  _np_qint8 = np.dtype([(\"qint8\", np.int8, 1)])\n",
            "/usr/local/lib/python3.6/dist-packages/tensorflow/python/framework/dtypes.py:527: FutureWarning: Passing (type, 1) or '1type' as a synonym of type is deprecated; in a future version of numpy, it will be understood as (type, (1,)) / '(1,)type'.\n",
            "  _np_quint8 = np.dtype([(\"quint8\", np.uint8, 1)])\n",
            "/usr/local/lib/python3.6/dist-packages/tensorflow/python/framework/dtypes.py:528: FutureWarning: Passing (type, 1) or '1type' as a synonym of type is deprecated; in a future version of numpy, it will be understood as (type, (1,)) / '(1,)type'.\n",
            "  _np_qint16 = np.dtype([(\"qint16\", np.int16, 1)])\n",
            "/usr/local/lib/python3.6/dist-packages/tensorflow/python/framework/dtypes.py:529: FutureWarning: Passing (type, 1) or '1type' as a synonym of type is deprecated; in a future version of numpy, it will be understood as (type, (1,)) / '(1,)type'.\n",
            "  _np_quint16 = np.dtype([(\"quint16\", np.uint16, 1)])\n",
            "/usr/local/lib/python3.6/dist-packages/tensorflow/python/framework/dtypes.py:530: FutureWarning: Passing (type, 1) or '1type' as a synonym of type is deprecated; in a future version of numpy, it will be understood as (type, (1,)) / '(1,)type'.\n",
            "  _np_qint32 = np.dtype([(\"qint32\", np.int32, 1)])\n",
            "/usr/local/lib/python3.6/dist-packages/tensorflow/python/framework/dtypes.py:535: FutureWarning: Passing (type, 1) or '1type' as a synonym of type is deprecated; in a future version of numpy, it will be understood as (type, (1,)) / '(1,)type'.\n",
            "  np_resource = np.dtype([(\"resource\", np.ubyte, 1)])\n"
          ],
          "name": "stderr"
        }
      ]
    },
    {
      "cell_type": "markdown",
      "metadata": {
        "id": "Bj2IJLHP3KwE",
        "colab_type": "text"
      },
      "source": [
        "## Verify GPU\n",
        " "
      ]
    },
    {
      "cell_type": "code",
      "metadata": {
        "id": "6Q7pknRn8y9L",
        "colab_type": "code",
        "outputId": "d3473961-2960-4b4b-ecdc-968b5749e66b",
        "colab": {
          "base_uri": "https://localhost:8080/",
          "height": 306
        }
      },
      "source": [
        "!nvidia-smi"
      ],
      "execution_count": 2,
      "outputs": [
        {
          "output_type": "stream",
          "text": [
            "Mon Jun  1 16:02:06 2020       \n",
            "+-----------------------------------------------------------------------------+\n",
            "| NVIDIA-SMI 440.82       Driver Version: 418.67       CUDA Version: 10.1     |\n",
            "|-------------------------------+----------------------+----------------------+\n",
            "| GPU  Name        Persistence-M| Bus-Id        Disp.A | Volatile Uncorr. ECC |\n",
            "| Fan  Temp  Perf  Pwr:Usage/Cap|         Memory-Usage | GPU-Util  Compute M. |\n",
            "|===============================+======================+======================|\n",
            "|   0  Tesla P100-PCIE...  Off  | 00000000:00:04.0 Off |                    0 |\n",
            "| N/A   45C    P0    28W / 250W |      0MiB / 16280MiB |      0%      Default |\n",
            "+-------------------------------+----------------------+----------------------+\n",
            "                                                                               \n",
            "+-----------------------------------------------------------------------------+\n",
            "| Processes:                                                       GPU Memory |\n",
            "|  GPU       PID   Type   Process name                             Usage      |\n",
            "|=============================================================================|\n",
            "|  No running processes found                                                 |\n",
            "+-----------------------------------------------------------------------------+\n"
          ],
          "name": "stdout"
        }
      ]
    },
    {
      "cell_type": "markdown",
      "metadata": {
        "id": "0wXB05bPDYxS",
        "colab_type": "text"
      },
      "source": [
        "## Downloading GPT-2\n",
        "\n",
        "If you're retraining a model on new text, you need to download the GPT-2 model first. \n",
        "\n",
        "There are two sizes of GPT-2:\n",
        "\n",
        "* `117M` (default): the \"small\" model, 500MB on disk.\n",
        "* `345M`: the \"medium\" model, 1.5GB on disk.\n",
        "\n",
        "Larger models have more knowledge, but take longer to finetune and longer to generate text. You can specify which base model to use by changing `model_name` in the cells below.\n",
        "\n",
        "The next cell downloads it from Google Cloud Storage and saves it in the Colaboratory VM at `/models/<model_name>`.\n",
        "\n",
        "This model isn't permanently saved in the Colaboratory VM; you'll have to redownload it if you want to retrain it at a later time."
      ]
    },
    {
      "cell_type": "code",
      "metadata": {
        "id": "P8wSlgXoDPCR",
        "colab_type": "code",
        "outputId": "08f89b5e-926c-45c4-ea3d-7d4f73f76502",
        "colab": {
          "base_uri": "https://localhost:8080/",
          "height": 136
        }
      },
      "source": [
        "gpt2.download_gpt2(model_name=\"345M\")"
      ],
      "execution_count": 4,
      "outputs": [
        {
          "output_type": "stream",
          "text": [
            "Fetching checkpoint: 1.05Mit [00:00, 441Mit/s]                                                      \n",
            "Fetching encoder.json: 1.05Mit [00:00, 88.8Mit/s]                                                   \n",
            "Fetching hparams.json: 1.05Mit [00:00, 540Mit/s]                                                    \n",
            "Fetching model.ckpt.data-00000-of-00001: 1.42Git [00:14, 97.7Mit/s]                                 \n",
            "Fetching model.ckpt.index: 1.05Mit [00:00, 436Mit/s]                                                \n",
            "Fetching model.ckpt.meta: 1.05Mit [00:00, 90.5Mit/s]                                                \n",
            "Fetching vocab.bpe: 1.05Mit [00:00, 146Mit/s]                                                       \n"
          ],
          "name": "stderr"
        }
      ]
    },
    {
      "cell_type": "markdown",
      "metadata": {
        "id": "N8KXuKWzQSsN",
        "colab_type": "text"
      },
      "source": [
        "## Mounting Google Drive\n",
        "\n",
        "The best way to get input text to-be-trained into the Colaboratory VM, and to get the trained model *out* of Colaboratory, is to route it through Google Drive *first*.\n",
        "\n",
        "Running this cell (which will only work in Colaboratory) will mount your personal Google Drive in the VM, which later cells can use to get data in/out. (it will ask for an auth code; that auth is not saved anywhere)"
      ]
    },
    {
      "cell_type": "code",
      "metadata": {
        "id": "puq4iC6vUAHc",
        "colab_type": "code",
        "outputId": "ef5e4778-0e61-4c64-a299-0dd8ee0d6c37",
        "colab": {
          "base_uri": "https://localhost:8080/",
          "height": 122
        }
      },
      "source": [
        "gpt2.mount_gdrive()"
      ],
      "execution_count": 5,
      "outputs": [
        {
          "output_type": "stream",
          "text": [
            "Go to this URL in a browser: https://accounts.google.com/o/oauth2/auth?client_id=947318989803-6bn6qk8qdgf4n4g3pfee6491hc0brc4i.apps.googleusercontent.com&redirect_uri=urn%3aietf%3awg%3aoauth%3a2.0%3aoob&response_type=code&scope=email%20https%3a%2f%2fwww.googleapis.com%2fauth%2fdocs.test%20https%3a%2f%2fwww.googleapis.com%2fauth%2fdrive%20https%3a%2f%2fwww.googleapis.com%2fauth%2fdrive.photos.readonly%20https%3a%2f%2fwww.googleapis.com%2fauth%2fpeopleapi.readonly\n",
            "\n",
            "Enter your authorization code:\n",
            "··········\n",
            "Mounted at /content/drive\n"
          ],
          "name": "stdout"
        }
      ]
    },
    {
      "cell_type": "markdown",
      "metadata": {
        "id": "BT__brhBCvJu",
        "colab_type": "text"
      },
      "source": [
        "## Upload your textfile to colab"
      ]
    },
    {
      "cell_type": "code",
      "metadata": {
        "id": "OSuWP70KpNGp",
        "colab_type": "code",
        "colab": {
          "base_uri": "https://localhost:8080/",
          "height": 51
        },
        "outputId": "75bd7bfe-96ce-4f10-f6ea-51e68b29b927"
      },
      "source": [
        "import os\n",
        "sotu_path = '/content/drive/My Drive/0-software_dev_notes/dsta-ai-course/state-of-the-union-corpus-1989-2017/sotu/'\n",
        "entries = os.listdir(sotu_path)\n",
        "print(len(entries))\n",
        "corpus = \"\"\n",
        "for entry in entries:\n",
        "  with open(sotu_path+entry,'r') as f:\n",
        "    content = f.read()\n",
        "    corpus += content + '\\n'\n",
        "file_name = '/content/drive/My Drive/0-software_dev_notes/dsta-ai-course/sotu.txt'\n",
        "with open(file_name,'w') as f:\n",
        "  f.write(corpus)\n",
        "print('corpus length:', len(corpus))"
      ],
      "execution_count": 15,
      "outputs": [
        {
          "output_type": "stream",
          "text": [
            "228\n",
            "corpus length: 10602749\n"
          ],
          "name": "stdout"
        }
      ]
    },
    {
      "cell_type": "markdown",
      "metadata": {
        "id": "LdpZQXknFNY3",
        "colab_type": "text"
      },
      "source": [
        "## Finetune GPT-2\n",
        "\n",
        "The next cell will start the actual finetuning of GPT-2. It creates a persistent TensorFlow session which stores the training config, then runs the training for the specified number of `steps`. (to have the finetuning run indefinitely, set `steps = -1`)\n",
        "\n",
        "The model checkpoints will be saved in `/checkpoint/run1` by default. The checkpoints are saved every 500 steps (can be changed) and when the cell is stopped.\n",
        "\n",
        "The training might time out after 4ish hours; make sure you end training and save the results so you don't lose them!\n",
        "\n",
        "**IMPORTANT NOTE:** If you want to rerun this cell, **restart the VM first** (Runtime -> Restart Runtime). You will need to rerun imports but not recopy files.\n",
        "\n",
        "Other optional-but-helpful parameters for `gpt2.finetune`:\n",
        "\n",
        "\n",
        "*  **`restore_from`**: Set to `fresh` to start training from the base GPT-2, or set to `latest` to restart training from an existing checkpoint.\n",
        "* **`sample_every`**: Number of steps to print example output\n",
        "* **`print_every`**: Number of steps to print training progress.\n",
        "* **`learning_rate`**:  Learning rate for the training. (default `1e-4`, can lower to `1e-5` if you have <1MB input data)\n",
        "*  **`run_name`**: subfolder within `checkpoint` to save the model. This is useful if you want to work with multiple models (will also need to specify  `run_name` when loading the model)"
      ]
    },
    {
      "cell_type": "code",
      "metadata": {
        "id": "aeXshJM-Cuaf",
        "colab_type": "code",
        "outputId": "48c82a30-ddbd-412a-fac5-7b7586fc7189",
        "colab": {
          "base_uri": "https://localhost:8080/",
          "height": 1000
        }
      },
      "source": [
        "sess = gpt2.start_tf_sess()\n",
        "\n",
        "gpt2.finetune(sess,\n",
        "              dataset=file_name,\n",
        "              model_name='345M',\n",
        "              steps=1000,\n",
        "              restore_from='fresh',\n",
        "              print_every=10,\n",
        "              sample_every=200,\n",
        "              save_every=500\n",
        "              )"
      ],
      "execution_count": 16,
      "outputs": [
        {
          "output_type": "stream",
          "text": [
            "WARNING:tensorflow:From /usr/local/lib/python3.6/dist-packages/tensorflow/python/framework/op_def_library.py:263: colocate_with (from tensorflow.python.framework.ops) is deprecated and will be removed in a future version.\n",
            "Instructions for updating:\n",
            "Colocations handled automatically by placer.\n",
            "WARNING:tensorflow:From /usr/local/lib/python3.6/dist-packages/tensorflow/python/ops/math_ops.py:3066: to_int32 (from tensorflow.python.ops.math_ops) is deprecated and will be removed in a future version.\n",
            "Instructions for updating:\n",
            "Use tf.cast instead.\n",
            "WARNING:tensorflow:From /usr/local/lib/python3.6/dist-packages/tensorflow/python/ops/math_grad.py:102: div (from tensorflow.python.ops.math_ops) is deprecated and will be removed in a future version.\n",
            "Instructions for updating:\n",
            "Deprecated in favor of operator or tf.math.divide.\n",
            "Loading checkpoint models/345M/model.ckpt\n",
            "WARNING:tensorflow:From /usr/local/lib/python3.6/dist-packages/tensorflow/python/training/saver.py:1266: checkpoint_exists (from tensorflow.python.training.checkpoint_management) is deprecated and will be removed in a future version.\n",
            "Instructions for updating:\n",
            "Use standard file APIs to check for files with this prefix.\n",
            "INFO:tensorflow:Restoring parameters from models/345M/model.ckpt\n"
          ],
          "name": "stdout"
        },
        {
          "output_type": "stream",
          "text": [
            "\r  0%|          | 0/1 [00:00<?, ?it/s]"
          ],
          "name": "stderr"
        },
        {
          "output_type": "stream",
          "text": [
            "Loading dataset...\n"
          ],
          "name": "stdout"
        },
        {
          "output_type": "stream",
          "text": [
            "100%|██████████| 1/1 [00:13<00:00, 13.32s/it]\n"
          ],
          "name": "stderr"
        },
        {
          "output_type": "stream",
          "text": [
            "dataset has 2269622 tokens\n",
            "Training...\n",
            "[10 | 17.51] loss=2.95 avg=2.95\n",
            "[20 | 26.20] loss=3.30 avg=3.13\n",
            "[30 | 34.87] loss=2.79 avg=3.02\n",
            "[40 | 43.54] loss=2.99 avg=3.01\n",
            "[50 | 52.21] loss=2.94 avg=3.00\n",
            "[60 | 60.89] loss=2.77 avg=2.96\n",
            "[70 | 69.59] loss=2.77 avg=2.93\n",
            "[80 | 78.27] loss=2.61 avg=2.89\n",
            "[90 | 86.97] loss=3.16 avg=2.92\n",
            "[100 | 95.66] loss=2.57 avg=2.88\n",
            "[110 | 104.34] loss=2.85 avg=2.88\n",
            "[120 | 113.00] loss=2.65 avg=2.86\n",
            "[130 | 121.68] loss=3.01 avg=2.87\n",
            "[140 | 130.35] loss=3.03 avg=2.88\n",
            "[150 | 139.02] loss=2.97 avg=2.89\n",
            "[160 | 147.70] loss=2.94 avg=2.89\n",
            "[170 | 156.38] loss=3.35 avg=2.92\n",
            "[180 | 165.04] loss=2.71 avg=2.91\n",
            "[190 | 173.71] loss=2.65 avg=2.89\n",
            "[200 | 182.38] loss=2.98 avg=2.90\n",
            "======== SAMPLE 1 ========\n",
            " months before the completion of the work, and the payment of the full sum of money appropriated by the Congress has been made which has been received;\n",
            "\n",
            "but our own circumstances permit me to state and declare that the necessary funds are sufficient to discharge all the bonds upon this subject.\n",
            "\n",
            "From the estimates which must be collected there must be no less than thirty-five thousand dollars.\n",
            "\n",
            "A similar system was adopted by the United States when that country was engaged in its military war with Great Britain. We are satisfied that the same Government should be adopted by the Confederation by which France and Belgium together now hold the balance of the present war, to enable Congress to make a speedy and safe adjustment of all the debts.\n",
            "It is impossible for any one individual to receive all this money, but the Confederation is perfectly determined to make the necessary adjustments, and a sufficient sum will be secured to accomplish this.\n",
            "It shall have been the duty of the Congress and my department to furnish as complete information as this country can from its own experience of the war as it has existed, and I hope that Congress may be inclined to act and that a speedy and satisfactory adjustment may, therefore, be secured.\n",
            "\n",
            "A more permanent solution of the economic problems by the United States would be desirable even without any treaty with Great Britain. The present war, which has been characterized by the utmost selfishness and the most avarice, is not destined for peaceful settlement, and I can not but be convinced that if the United States be permitted the full confidence and assistance in such a case as the question in question should be of importance the war may be safely concluded. I can not, however, help myself to believe that the war has been really and seriously decided, and that the United States could be allowed to go on without any delay in its settlement.\n",
            "I can not help but feel that a great number of other important interests must be settled and that it was right for us not to be distracted but to get on without this. A full appreciation of the immense economic and industrial importance of the war in all circumstances would also excite our gratitude and honor.\n",
            "\n",
            "The present condition in the country of the people, under the protection of the armies, will make it the duty of the Government to assist in making all the modifications of the Government's system as well as the general legislation to be applied in every possible possible way in the future to the further interests of this country, whether through the legislatures of the States or through the Congress itself. I feel this, in the highest degree, to be my sincere hope in the future.\n",
            "It was only last year that the great public war took place, and so far it has been in progress that I can not but hope it will be soon accomplished. The war which has taken place is not as yet waged, but it will soon. The country has been steadily built up to all the interests which the people of the United States want; it is still crowded about with more than a thousand miles of highways, all which must be improved, all which must be maintained and improved. It is a country which has been slowly and steadily built up, and which if there is a great development it will have to be rebuilt.\n",
            "If it is to be built up and made ready for the people to look forward to, it must be done without any modification of their system. There are, I think, too many things which will have to be changed, which will be found so simple and obvious as to render them all the more obvious.\n",
            "It is not the business of the Government to prepare for or to propose a new system, but to assist in the erection of those features which will be most pleasing to the mind and to the feelings of the people whose interests they so much affect.\n",
            "I can not, then, help but hope that a thorough and successful construction will be effected of this great object in the latter hours of the present and the new day.\n",
            "There is a great change, for it is only the most conspicuous features of this great war which are not altered.\n",
            "To be carried into effect at a short period, a great extension of roads, and a great extension of land, will be expedited. I cannot help feeling that all the people of the country are equally sensible of the need of some new system which will be more than the same and which will be more than a facsimile of the old. At a minimum a system shall consist in having the Government to take land for a railroad, and a railroad shall consist in owning a large tract of land, thus covering all the people's needs.\n",
            "There will be a great increase in our trade with Great Britain.\n",
            "There will be a great increase in our exports to Great Britain.\n",
            "There will be a great increase in our imports from Great Britain.\n",
            "There will be a great increase in our imports from Great Britain.\n",
            "There will be a great expansion of our manufacturing establishments through Great Britain.\n",
            "There will be new ways of communication and of transportation to Great Britain.\n",
            "There will be new\n",
            "\n",
            "[210 | 214.65] loss=2.87 avg=2.90\n",
            "[220 | 223.31] loss=2.50 avg=2.88\n",
            "[230 | 231.98] loss=2.61 avg=2.86\n",
            "[240 | 240.65] loss=2.75 avg=2.86\n",
            "[250 | 249.32] loss=3.13 avg=2.87\n",
            "[260 | 258.00] loss=3.20 avg=2.89\n",
            "[270 | 266.67] loss=2.89 avg=2.89\n",
            "[280 | 275.33] loss=3.06 avg=2.89\n",
            "[290 | 284.01] loss=2.31 avg=2.87\n",
            "[300 | 292.69] loss=3.20 avg=2.88\n",
            "[310 | 301.36] loss=3.03 avg=2.89\n",
            "[320 | 310.02] loss=2.78 avg=2.88\n",
            "[330 | 318.70] loss=3.05 avg=2.89\n",
            "[340 | 327.36] loss=2.17 avg=2.87\n",
            "[350 | 336.03] loss=3.08 avg=2.87\n",
            "[360 | 344.70] loss=2.29 avg=2.85\n",
            "[370 | 353.38] loss=3.10 avg=2.86\n",
            "[380 | 362.05] loss=3.09 avg=2.87\n",
            "[390 | 370.72] loss=2.91 avg=2.87\n",
            "[400 | 379.41] loss=2.97 avg=2.87\n",
            "======== SAMPLE 1 ========\n",
            " for the protection and maintenance of the public interests\n",
            "of the United States.\n",
            "\n",
            "As an added duty I also recommend that such action be taken to\n",
            "establish the military and navies of the United States of North\n",
            "Carolina. The people of these islands, however, have not been\n",
            "allowed to realize the full interest of the Constitution in these\n",
            "measures. The powers of this Government have been vested in\n",
            "the officers and agents of the Executive department. I cannot but\n",
            "feel it inexpedient that the Executive should be entrusted with\n",
            "any such function as the legislature of the District of Columbia can\n",
            "do for her.\n",
            "\n",
            "With the respect to which it is our national policy to promote our\n",
            "maintainers of the great Union of the Republic of Mexico, I\n",
            "seriously urge that Congress extend the power of the\n",
            "Executive to the execution of a treaty authorizing the\n",
            "executive administration of the acts of Congress for the execution of\n",
            "their acts in the interest of the general good. The Government of the\n",
            "Republic has always been regarded as the principal national trust\n",
            "for the security and protection of our citizens on this Territory.\n",
            "I can not feel it a wise policy to authorize the Executive to\n",
            "execute a treaty authorizing their officers to control the acts of any officer\n",
            "of such Government performing any of the official duties of the President of the\n",
            "United States. In many cases, as in this case, there can be no doubt of\n",
            "proper enforcement of the provisions of the Constitution by the federal government\n",
            "when this Government has been the Government of this Territory for three\n",
            "decades, with the consent of Congress.\n",
            "\n",
            "We must now consider whether the Executive government does\n",
            "any part of the work of the Congress in the enjoyment of the\n",
            "powers of the executive. The Constitution, as it currently stands, says, that\n",
            "the executive shall act \"to establish a uniform rule of legislation, and for\n",
            "execution of such rules, regulations, and laws as may be necessary and proper to their\n",
            "operation for their carrying into effect.\" A duty therefore to perform\n",
            "such a duty is incumbent upon this Government. It is not the duty of the states\n",
            "or the people of the United States to carry this Government into the business\n",
            "of national self-promotion by their members and the States or of the people\n",
            "of their counties and the States or of the people of the United States.\n",
            "\n",
            "There is a question now pending before you involving a controversy, though\n",
            "never had before it become one of this kind, whether the Executive, after all\n",
            "policies of Congress for carrying into effect the acts of Congress\n",
            "for carrying into effect the acts of Congress for carrying into effect the\n",
            "act of Congress for carrying into effect the act of Congress for\n",
            "carrying into effect the act of Congress for carrying into effect the\n",
            "acts of Congress for carrying into effect the act of Congress for\n",
            "carrying into effect the acts of Congress for carrying into effect the\n",
            "actions of Congress, or of Congress after all the legislative action\n",
            "for carrying into effect the legislative action for carrying into effect the\n",
            "actions of Congress. It is urged that this is a case of \"authority to\n",
            "execute the provisions of the Constitution of the United States, and the States,\n",
            "or the people, of this Territory shall, and shall have an right to perform\n",
            "such obligation or assume such obligation as an absolute monarch or self-promoter of\n",
            "all powers and duties of the United States.\" In a sense you should say to the\n",
            "subject of the question: If the Constitution has been validly ratified, shall the\n",
            "executive power of the United States, and all the powers of the States, assume\n",
            "and perform upon all the States the performance or exercise of the Constitution of the United\n",
            "States? If it has not been so performed, in fact, it may not be assumed. If\n",
            "the Constitution has not thus performed, or has merely been presented\n",
            "as yet incomplete, or has only been ratified after all the legislative\n",
            "action of Congress has been exhausted for carrying the Constitution into\n",
            "operative, then the States and the United States shall, and so\n",
            "shall be required to perform, so as to the exercise of all the powers of the States,\n",
            "that Constitution shall be ratified and the Constitution of the United States\n",
            "applicable and effective.\n",
            "\n",
            "This matter in general is not one of great importance; for all practical\n",
            "it is a question of such general practicality, general and general, with\n",
            "so many views, so many questions and so many questions with so many opinions\n",
            "among those who have the right to decide them, that I feel it not\n",
            "unlikely that Congress is likely to pass a measure that is more than can be\n",
            "and so far as practicable to be done by the States and the United States.\n",
            "\n",
            "I can not be expected to find any difficulty in obtaining and executing any\n",
            "legislation for carrying into effect the acts of Congress for the enforcement of\n",
            "the acts of Congress for the enforcement of the provisions of the Constitution of the United States\n",
            "\n",
            "[410 | 409.38] loss=2.78 avg=2.87\n",
            "[420 | 418.05] loss=2.99 avg=2.87\n",
            "[430 | 426.71] loss=2.91 avg=2.87\n",
            "[440 | 435.38] loss=2.89 avg=2.87\n",
            "[450 | 444.04] loss=2.90 avg=2.88\n",
            "[460 | 452.70] loss=2.28 avg=2.86\n",
            "[470 | 461.37] loss=2.78 avg=2.86\n",
            "[480 | 470.03] loss=2.41 avg=2.85\n",
            "[490 | 478.71] loss=2.77 avg=2.84\n",
            "[500 | 487.38] loss=2.73 avg=2.84\n",
            "Saving checkpoint/run1/model-500\n",
            "[510 | 507.17] loss=2.56 avg=2.83\n",
            "[520 | 515.85] loss=2.51 avg=2.83\n",
            "[530 | 524.52] loss=2.52 avg=2.82\n",
            "[540 | 533.20] loss=2.91 avg=2.82\n",
            "[550 | 541.88] loss=2.35 avg=2.81\n",
            "[560 | 550.55] loss=2.84 avg=2.81\n",
            "[570 | 559.22] loss=3.06 avg=2.82\n",
            "[580 | 567.90] loss=2.22 avg=2.80\n",
            "[590 | 576.56] loss=2.89 avg=2.80\n",
            "[600 | 585.22] loss=2.97 avg=2.81\n",
            "======== SAMPLE 1 ========\n",
            " of our\n",
            "citizens.\n",
            "\n",
            "THE SECESSION OF LATE\n",
            "\n",
            "The last part of this session will continue with the same effect and\n",
            "strength with the first. In the course of the day we have\n",
            "received a certificate from the President of the United States\n",
            "consisting of assurances, which upon inspection appeared to show that\n",
            "such was the state of the country as he knew it to be, that\n",
            "under the acts of the last session of the United States\n",
            "Government were not disposed to pay, by the due and lawful\n",
            "refusal of the question it has been asked by all the parties to\n",
            "make to pay to the United States of America a sum to be considered\n",
            "as the due compensation to which they all owe a just\n",
            "interest by virtue of right of the same laws and treaty stipulations\n",
            "which they are liable to pay the person of their representative to\n",
            "a judge of the court of this Court for his services as a\n",
            "member of the jury, and which, if rendered in a case under\n",
            "the laws of the United States of America, may well be regarded as\n",
            "a just compensation to him for the performance of a duty which\n",
            "he was personally responsible for and which is a duty\n",
            "obliged upon him to perform in an equitable and just manner.\n",
            "\n",
            "It would be an ungracious concession of the United States to incur a\n",
            "present debt, although it might be properly regarded as due to the\n",
            "government, to the United States of America by the laws of the country,\n",
            "whereby the interest on the national debt may have been paid, by the\n",
            "United States of America in their stead with an annual payment of\n",
            "about $200,000, which in some of the States is a sufficient sum to\n",
            "cover the full annual expenses of the Government, the sum which such\n",
            "payment would henceforth constitute a yearly payment upon\n",
            "the national debt will, I trust, be thought sufficient\n",
            "to secure the continued compliance of this Government with the\n",
            "lawful and equitable demands of our citizens for the payment of\n",
            "so much a part of their national debt and of their own property, in\n",
            "respect to the interests which the debt and their property are\n",
            "respecting.\n",
            "\n",
            "INTERNATIONAL REFORM\n",
            "\n",
            "A measure of international reform by an\n",
            "International Convention was adopted by the last term of the\n",
            "American Congress with the help of the concurring joint\n",
            "attached to the measure.\n",
            "\n",
            "On the 15th of October last I received a certified copy\n",
            "from the Secretary of the Treasury of the results of the audit\n",
            "of the Treasury of the United States, the last year before\n",
            "that of the United States of America. The full report of the\n",
            "Audit Committee, which had been at work till the middle of May,\n",
            "presented its findings fully satisfactory to me, and were\n",
            "found to be consistent with the laws of the United States of\n",
            "America on the subject of audit, having regard to the\n",
            "appointments of commissioners, auditors, and\n",
            "accountants, and also with their salaries, and such others\n",
            "as the said act has vested with and by virtue of its\n",
            "constitutional power, and in the particular cases thereof, with\n",
            "the exception of a commission to assess the penalties\n",
            "which might be imposed upon offenders.\n",
            "\n",
            "The same recommendations, if adopted, would in the\n",
            "course of ensuing years be adopted by the various\n",
            "committees charged with the performance of this or that\n",
            "of their respective duties. These committees\n",
            "are to be found at: (1) the Treasury Department; (2)\n",
            "the Federal Reserve Board; (3)\n",
            "\n",
            "the Comptroller of the Treasury; and (4)\n",
            "\n",
            "the Federal Reserve Board. The number and the\n",
            "nature of their duties will give assurance to the\n",
            "public and to those who hold the balance of the\n",
            "public debt, that the duties of these committees will be\n",
            "comprehensive, and that in their exercise they will be able to see\n",
            "and to make reports to the President of its financial\n",
            "health, and of its condition of public affairs, with all the\n",
            "benefits attendant thereto and the effectual appropriations\n",
            "which may be made without any additional appropriations in its\n",
            "payments.\n",
            "\n",
            "Under the act of the 5th succeeding term of the House of\n",
            "Representatives I adopted on the 29th of June last an act for\n",
            "further strengthening in the Treasury Department of the\n",
            "lawful and efficient provisions of the said act, and also an act\n",
            "to provide for a commission to study their efficacy.\n",
            "\n",
            "After the publication of this report I again recommended the\n",
            "suspension of the operation of said act, on the ground\n",
            "that it infringed the rights of Congress by the operation\n",
            "of one of its provisions under which an act must be\n",
            "submitted to both Houses for an initial determination of\n",
            "appropriations in the fiscal years 1858 and 1861, to\n",
            "withhold the appropriations for that year if they shall be\n",
            "found not to be in accordance with the provisions of the law,\n",
            "excepting there\n",
            "\n",
            "[610 | 614.57] loss=3.04 avg=2.81\n",
            "[620 | 623.25] loss=3.12 avg=2.82\n",
            "[630 | 631.92] loss=2.90 avg=2.82\n",
            "[640 | 640.58] loss=3.00 avg=2.83\n",
            "[650 | 649.25] loss=2.83 avg=2.83\n",
            "[660 | 657.92] loss=2.45 avg=2.82\n",
            "[670 | 666.59] loss=2.66 avg=2.81\n",
            "[680 | 675.25] loss=2.19 avg=2.80\n",
            "[690 | 683.95] loss=2.79 avg=2.80\n",
            "[700 | 692.63] loss=2.65 avg=2.80\n",
            "[710 | 701.29] loss=2.85 avg=2.80\n",
            "[720 | 710.00] loss=2.76 avg=2.80\n",
            "[730 | 718.68] loss=3.27 avg=2.81\n",
            "[740 | 727.35] loss=2.64 avg=2.80\n",
            "[750 | 736.02] loss=2.90 avg=2.81\n",
            "[760 | 744.69] loss=2.88 avg=2.81\n",
            "[770 | 753.35] loss=2.71 avg=2.81\n",
            "[780 | 762.01] loss=2.45 avg=2.80\n",
            "[790 | 770.67] loss=2.63 avg=2.80\n",
            "[800 | 779.34] loss=2.40 avg=2.79\n",
            "======== SAMPLE 1 ========\n",
            " are, to make\n",
            "others the cause of their own improvement. So far are the\n",
            "consumers of Government-grown wealth whose wants they serve that\n",
            "they willingly pay a heavy tax to subsidize the production of the\n",
            "fruits of the Government.\n",
            "\n",
            "The result accruing from the extension of the tax upon government\n",
            "produce the effects which are expected in proportion to its amount. But\n",
            "such a tax is never so large as to be intolerable. The present income, as\n",
            "obtained from the sources of the Government, is but a small part of the wealth\n",
            "generated by the people who, in order to obtain a part of their wants,\n",
            "pay their taxes, or for some other public purpose. If we have\n",
            "all the money we could produce under ordinary conditions, and yet in\n",
            "addition to paying that tax to the benefit of the people only, we might\n",
            "receive the whole amount. Such is the case with every public\n",
            "agitation and movement which results from the continued growth of\n",
            "the revenue.\n",
            "\n",
            "This is the great danger at hand. It is plain that such a taxation must\n",
            "end of necessity lead to a diminution, or even a reduction, of the\n",
            "average produce of society, and must in consequence cause a decrease of the\n",
            "income. By an increase in the revenues, by a reduction in the amount\n",
            "receipts paid, the production of society goes to the exclusion of such\n",
            "taxes as actually or nearly are objectionable. Of course, the greatest\n",
            "redundancy of the income goes to the few whose receipts are, in\n",
            "particular cases, to the amount of their ordinary payments, and this\n",
            "increase or diminution of that income is of most inconsiderable character.\n",
            "To take one example, this is a case of the smallest possible\n",
            "redundancy: the amount of the Federal taxes being about 3 per\n",
            "cent. And yet, having been paid and collected over many thousands of\n",
            "years, and having also been taxed from a long time, this means\n",
            "that now that we are taxed no more than we are paid from other sources,\n",
            "therefore the ordinary receipts, and the ordinary revenue, go out of\n",
            "the Government.\n",
            "\n",
            "The solution, therefore, of this difficulty, if it can be\n",
            "surfaced, must be by changing the sources of the receipts and\n",
            "taxes, and by removing the Government entirely from the scene of\n",
            "payments.\n",
            "\n",
            "I consider this the leading principle which must be the subject of\n",
            "the whole public law of the country. It is on the subject of the\n",
            "Government which the most serious consequences to its welfare depend. If\n",
            "it has failed to maintain and maintain as a whole its object of\n",
            "suppression, that object must fall to pieces if this government is\n",
            "dedicated to any one person or set of persons. At the same time we\n",
            "must not lose any eye on the objects by which the Government is meant.\n",
            "Such must be the objects of its expenditure as its whole means. There\n",
            "must be, from time to time, a corresponding reduction or addition to\n",
            "the expenditure or revenue which ought to follow. A change in the\n",
            "source of the taxes is not to be expected, until the whole result of\n",
            "the object be shown. By a change in the source of the revenue the\n",
            "product, which may be made of the products of other Governments, is\n",
            "preferRED and is not intended that the source of its expenditure shall\n",
            "fall to pieces as the product of other Governments. And the source\n",
            "of the expenditure must be chosen among the several, not through the\n",
            "fraud of those whose duty it is to make that product, but by the\n",
            "honest and conscientious observance with which the expenditure is made to\n",
            "proper ends. A change in the expenditure may, in a short time, raise\n",
            "the output of the nation to a greater or lesser amount, be the cause,\n",
            "when the result of it is fully ascertained, of what are called the\n",
            "solutions of the great and progressive accumulation of wealth. In a\n",
            "district by which the whole wealth of the nation have been accumulated, and\n",
            "in which the Government alone make and receive payments, it is no\n",
            "much more in this country than in England, Germany, Sweden, and\n",
            "other countries, that the most advantageous condition is furnished, under\n",
            "different names or denominations, by an increasing and an increasing\n",
            "production, or by a decrease in the output of the Government, that\n",
            "difference of the public taxes shall tend to decrease the production\n",
            "of such of the public taxes as will be most beneficial to the public\n",
            "at the greatest rate of production.\n",
            "\n",
            "Such is the doctrine upon which our law is founded. In the light of these\n",
            "facts the only course open to it to us in the present moment is\n",
            "the improvement of the revenue by a reduction in the amount of\n",
            "the present taxation to the object which it is intended to\n",
            "suppress; that the revenue, not the money,\n",
            "\n",
            "[810 | 808.44] loss=2.31 avg=2.78\n",
            "[820 | 817.10] loss=3.48 avg=2.79\n",
            "[830 | 825.76] loss=2.93 avg=2.80\n",
            "[840 | 834.43] loss=3.08 avg=2.80\n",
            "[850 | 843.10] loss=2.71 avg=2.80\n",
            "[860 | 851.76] loss=2.66 avg=2.80\n",
            "[870 | 860.43] loss=2.74 avg=2.80\n",
            "[880 | 869.10] loss=2.69 avg=2.79\n",
            "[890 | 877.76] loss=2.24 avg=2.78\n",
            "[900 | 886.42] loss=2.68 avg=2.78\n",
            "[910 | 895.08] loss=2.66 avg=2.78\n",
            "[920 | 903.74] loss=1.69 avg=2.76\n",
            "[930 | 912.40] loss=3.11 avg=2.77\n",
            "[940 | 921.06] loss=2.70 avg=2.77\n",
            "[950 | 929.73] loss=3.17 avg=2.77\n",
            "[960 | 938.40] loss=2.28 avg=2.77\n",
            "[970 | 947.07] loss=2.99 avg=2.77\n",
            "[980 | 955.74] loss=2.63 avg=2.77\n",
            "[990 | 964.40] loss=2.45 avg=2.76\n",
            "[1000 | 973.05] loss=3.00 avg=2.77\n",
            "Saving checkpoint/run1/model-1000\n",
            "WARNING:tensorflow:From /usr/local/lib/python3.6/dist-packages/tensorflow/python/training/saver.py:966: remove_checkpoint (from tensorflow.python.training.checkpoint_management) is deprecated and will be removed in a future version.\n",
            "Instructions for updating:\n",
            "Use standard file APIs to delete files with this prefix.\n"
          ],
          "name": "stdout"
        }
      ]
    },
    {
      "cell_type": "code",
      "metadata": {
        "id": "D_10EDjbbXYK",
        "colab_type": "code",
        "outputId": "a7135fd5-7ed9-4e13-fd53-d2ee4829de25",
        "colab": {
          "base_uri": "https://localhost:8080/",
          "height": 68
        }
      },
      "source": [
        "ls checkpoint/run1"
      ],
      "execution_count": 17,
      "outputs": [
        {
          "output_type": "stream",
          "text": [
            "checkpoint    events.out.tfevents.1591028663.aa8f63524591  model-1000.index\n",
            "counter       hparams.json                                 model-1000.meta\n",
            "encoder.json  model-1000.data-00000-of-00001               vocab.bpe\n"
          ],
          "name": "stdout"
        }
      ]
    },
    {
      "cell_type": "code",
      "metadata": {
        "id": "YxLruZ3BbG9x",
        "colab_type": "code",
        "colab": {}
      },
      "source": [
        ""
      ],
      "execution_count": 0,
      "outputs": []
    },
    {
      "cell_type": "markdown",
      "metadata": {
        "id": "IXSuTNERaw6K",
        "colab_type": "text"
      },
      "source": [
        "After the model is trained, you can copy the checkpoint folder to your own Google Drive.\n",
        "\n",
        "If you want to download it to your personal computer, it's strongly recommended you copy it there first, then download from Google Drive. (NB: if you are downloading the model to your personal computer, download the large model checkpoint file *seperately*, download the other files, and reconstruct the `/checkpoint/run1` folder hierarchy locally)."
      ]
    },
    {
      "cell_type": "code",
      "metadata": {
        "id": "VHdTL8NDbAh3",
        "colab_type": "code",
        "colab": {}
      },
      "source": [
        "gpt2.copy_checkpoint_to_gdrive()"
      ],
      "execution_count": 0,
      "outputs": []
    },
    {
      "cell_type": "markdown",
      "metadata": {
        "id": "qQJgV_b4bmzd",
        "colab_type": "text"
      },
      "source": [
        "You're done! Feel free to go to the **Generate Text From The Trained Model** section to generate text based on your retrained model."
      ]
    },
    {
      "cell_type": "markdown",
      "metadata": {
        "id": "pel-uBULXO2L",
        "colab_type": "text"
      },
      "source": [
        "## Load a Trained Model Checkpoint\n",
        "\n",
        "Running the next cell will copy the `checkpoint` folder from your Google Drive into the Colaboratory VM."
      ]
    },
    {
      "cell_type": "code",
      "metadata": {
        "id": "DCcx5u7sbPTD",
        "colab_type": "code",
        "colab": {}
      },
      "source": [
        "gpt2.copy_checkpoint_from_gdrive()"
      ],
      "execution_count": 0,
      "outputs": []
    },
    {
      "cell_type": "markdown",
      "metadata": {
        "id": "RTa6zf3e_9gV",
        "colab_type": "text"
      },
      "source": [
        "The next cell will allow you to load the retrained model checkpoint + metadata necessary to generate text.\n",
        "\n",
        "**IMPORTANT NOTE:** If you want to rerun this cell, **restart the VM first** (Runtime -> Restart Runtime). You will need to rerun imports but not recopy files."
      ]
    },
    {
      "cell_type": "code",
      "metadata": {
        "id": "KwInEBdHYXgn",
        "colab_type": "code",
        "colab": {
          "base_uri": "https://localhost:8080/",
          "height": 377
        },
        "outputId": "4cc9453d-0cf2-4ac9-b41d-3421a66fce31"
      },
      "source": [
        "import gpt_2_simple as gpt2\n",
        "from datetime import datetime\n",
        "from google.colab import files\n",
        "sess = gpt2.start_tf_sess()\n",
        "gpt2.load_gpt2(sess)"
      ],
      "execution_count": 1,
      "outputs": [
        {
          "output_type": "stream",
          "text": [
            "/usr/local/lib/python3.6/dist-packages/tensorflow/python/framework/dtypes.py:526: FutureWarning: Passing (type, 1) or '1type' as a synonym of type is deprecated; in a future version of numpy, it will be understood as (type, (1,)) / '(1,)type'.\n",
            "  _np_qint8 = np.dtype([(\"qint8\", np.int8, 1)])\n",
            "/usr/local/lib/python3.6/dist-packages/tensorflow/python/framework/dtypes.py:527: FutureWarning: Passing (type, 1) or '1type' as a synonym of type is deprecated; in a future version of numpy, it will be understood as (type, (1,)) / '(1,)type'.\n",
            "  _np_quint8 = np.dtype([(\"quint8\", np.uint8, 1)])\n",
            "/usr/local/lib/python3.6/dist-packages/tensorflow/python/framework/dtypes.py:528: FutureWarning: Passing (type, 1) or '1type' as a synonym of type is deprecated; in a future version of numpy, it will be understood as (type, (1,)) / '(1,)type'.\n",
            "  _np_qint16 = np.dtype([(\"qint16\", np.int16, 1)])\n",
            "/usr/local/lib/python3.6/dist-packages/tensorflow/python/framework/dtypes.py:529: FutureWarning: Passing (type, 1) or '1type' as a synonym of type is deprecated; in a future version of numpy, it will be understood as (type, (1,)) / '(1,)type'.\n",
            "  _np_quint16 = np.dtype([(\"quint16\", np.uint16, 1)])\n",
            "/usr/local/lib/python3.6/dist-packages/tensorflow/python/framework/dtypes.py:530: FutureWarning: Passing (type, 1) or '1type' as a synonym of type is deprecated; in a future version of numpy, it will be understood as (type, (1,)) / '(1,)type'.\n",
            "  _np_qint32 = np.dtype([(\"qint32\", np.int32, 1)])\n",
            "/usr/local/lib/python3.6/dist-packages/tensorflow/python/framework/dtypes.py:535: FutureWarning: Passing (type, 1) or '1type' as a synonym of type is deprecated; in a future version of numpy, it will be understood as (type, (1,)) / '(1,)type'.\n",
            "  np_resource = np.dtype([(\"resource\", np.ubyte, 1)])\n"
          ],
          "name": "stderr"
        },
        {
          "output_type": "stream",
          "text": [
            "WARNING:tensorflow:From /usr/local/lib/python3.6/dist-packages/tensorflow/python/framework/op_def_library.py:263: colocate_with (from tensorflow.python.framework.ops) is deprecated and will be removed in a future version.\n",
            "Instructions for updating:\n",
            "Colocations handled automatically by placer.\n",
            "Loading checkpoint checkpoint/run1/model-1000\n",
            "WARNING:tensorflow:From /usr/local/lib/python3.6/dist-packages/tensorflow/python/training/saver.py:1266: checkpoint_exists (from tensorflow.python.training.checkpoint_management) is deprecated and will be removed in a future version.\n",
            "Instructions for updating:\n",
            "Use standard file APIs to check for files with this prefix.\n",
            "INFO:tensorflow:Restoring parameters from checkpoint/run1/model-1000\n"
          ],
          "name": "stdout"
        }
      ]
    },
    {
      "cell_type": "markdown",
      "metadata": {
        "id": "ClJwpF_ACONp",
        "colab_type": "text"
      },
      "source": [
        "## Generate Text From The Trained Model\n",
        "\n",
        "After you've trained the model or loaded a retrained model from checkpoint, you can now generate text. `generate` generates a single text from the loaded model."
      ]
    },
    {
      "cell_type": "code",
      "metadata": {
        "id": "NuYDh9ocT8R5",
        "colab_type": "code",
        "colab": {
          "base_uri": "https://localhost:8080/",
          "height": 1000
        },
        "outputId": "43d5b3f6-67c8-4c3d-c339-4f6036947274"
      },
      "source": [
        "gpt2.generate(sess)"
      ],
      "execution_count": 2,
      "outputs": [
        {
          "output_type": "stream",
          "text": [
            "When asked to come to the defense of the United States during our\n",
            "First World War, America did not hesitate to do so. Our armed forces in\n",
            "Europe and Asia were in a state of great readiness, and so was\n",
            "our navy. In the past year, however, the American ships in\n",
            "the Mediterranean have been forced to make frequent port attacks on\n",
            "the German Navy, and its own force is now being\n",
            "deprived of the ships in the Mediterranean.\n",
            "\n",
            "The present government has been in power for a few months, and\n",
            "has already suffered many reverses. A year ago there was a\n",
            "thrust of the utmost probity and confidence in the American\n",
            "people. The public confidence in our nation was so great that\n",
            "no one expected that we would fail. The peace and war were\n",
            "inextricably bound together by the great principles of\n",
            "liberty and justice.\n",
            "\n",
            "The war in Europe had been fought by Germany, but the\n",
            "people of Germany had not been able to form a strong\n",
            "unified opinion of the war and of the war's result. It was\n",
            "clear that Germany would have to make a full account of the\n",
            "result and of the conduct of this war, and that the German\n",
            "public opinion would have to move in the direction of peace. It\n",
            "could not move in the direction indicated by the war. It would have to\n",
            "move in the direction indicated by the war.\n",
            "\n",
            "The German public opinion could not move in that direction. It would\n",
            "have to move in the direction indicated by the war.\n",
            "\n",
            "The German public opinion could not move in that direction.\n",
            "\n",
            "The German public opinion could not move in that direction.\n",
            "\n",
            "The German public opinion could not move in that direction.\n",
            "\n",
            "The German public opinion could not move in that direction.\n",
            "\n",
            "The German public opinion could not move in that direction.\n",
            "\n",
            "The German public opinion could not move in that direction.\n",
            "\n",
            "The German public opinion could not move in that direction.\n",
            "\n",
            "The German public opinion could not move in that direction.\n",
            "\n",
            "The German public opinion could not move in that direction.\n",
            "\n",
            "The German public opinion could not move in that direction.\n",
            "\n",
            "The German public opinion could not move in that direction.\n",
            "\n",
            "The German public opinion could not move in that direction.\n",
            "\n",
            "The German public opinion could not move in that direction.\n",
            "\n",
            "The German public opinion could not move in that direction.\n",
            "\n",
            "The German public opinion could not move in that direction.\n",
            "\n",
            "The German public opinion could not move in that direction.\n",
            "\n",
            "The German public opinion could not move in that direction.\n",
            "\n",
            "The German public opinion could not move in that direction.\n",
            "\n",
            "The German public opinion could not move in that direction.\n",
            "\n",
            "The German public opinion could not move in that direction.\n",
            "\n",
            "The German public opinion could not move in that direction.\n",
            "\n",
            "The German public opinion could not move in that direction.\n",
            "\n",
            "The German public opinion could not move in that direction.\n",
            "\n",
            "The German public opinion could not move in that direction.\n",
            "\n",
            "The German public opinion could not move in that direction.\n",
            "\n",
            "The German public opinion could not move in that direction.\n",
            "\n",
            "The German public opinion could not move in that direction.\n",
            "\n",
            "The German public opinion could not move in that direction.\n",
            "\n",
            "The German public opinion could not move in that direction.\n",
            "\n",
            "The German public opinion could not move in that direction.\n",
            "\n",
            "The German public opinion could not move in that direction.\n",
            "\n",
            "The German public opinion could not move in that direction.\n",
            "\n",
            "The German public opinion could not move in that direction.\n",
            "\n",
            "The German public opinion could not move in that direction.\n",
            "\n",
            "The German public opinion could not move in that direction.\n",
            "\n",
            "The German public opinion could not move in that direction.\n",
            "\n",
            "The German public opinion could not move in that direction.\n",
            "\n",
            "The German public opinion could not move in that direction.\n",
            "\n",
            "The German public opinion could not move in that direction.\n",
            "\n",
            "The German public opinion could not move in that direction.\n",
            "\n",
            "The German public opinion could not move in that direction.\n",
            "\n",
            "The German public opinion could not move in that direction.\n",
            "\n",
            "The German public opinion could not move in that direction.\n",
            "\n",
            "The German public opinion could not move in that direction.\n",
            "\n",
            "The German public opinion could not move in that direction.\n",
            "\n",
            "The German public opinion could not move in that direction.\n",
            "\n",
            "The German public opinion could not move in that direction.\n",
            "\n",
            "The German public opinion could not move in that direction.\n",
            "\n",
            "The German public opinion could not move in that direction.\n",
            "\n",
            "The German public opinion could not move in that direction.\n",
            "\n",
            "The German public opinion could not move in that direction.\n",
            "\n",
            "The German public opinion could not move in that direction.\n",
            "\n",
            "The German public opinion could not move in that direction.\n",
            "\n",
            "The German public opinion could not move in that direction.\n",
            "\n",
            "The German\n"
          ],
          "name": "stdout"
        }
      ]
    },
    {
      "cell_type": "markdown",
      "metadata": {
        "id": "oF4-PqF0Fl7R",
        "colab_type": "text"
      },
      "source": [
        "If you're creating an API based on your model and need to pass the generated text elsewhere, you can do `text = gpt2.generate(sess, return_as_list=True)[0]`\n",
        "\n",
        "You can also pass in a `prefix` to the generate function to force the text to start with a given character sequence and generate text from there (good if you add an indicator when the text starts).\n",
        "\n",
        "You can also generate multiple texts at a time by specifing `nsamples`. Unique to GPT-2, you can pass a `batch_size` to generate multiple samples in parallel, giving a massive speedup (in Colaboratory, set a maximum of 20 for `batch_size`).\n",
        "\n",
        "Other optional-but-helpful parameters for `gpt2.generate` and friends:\n",
        "\n",
        "*  **`length`**: Number of tokens to generate (default 1023, the maximum)\n",
        "* **`temperature`**: The higher the temperature, the crazier the text (default 0.7, recommended to keep between 0.7 and 1.0)\n",
        "* **`truncate`**: Truncates the input text until a given sequence, excluding that sequence (e.g. if `truncate='<|endoftext|>'`, the returned text will include everything before the first `<|endoftext|>`). It may be useful to combine this with a smaller `length` if the input texts are short.\n",
        "*  **`include_prefix`**: If using `truncate` and `include_prefix=False`, the specified `prefix` will not be included in the returned text."
      ]
    },
    {
      "cell_type": "code",
      "metadata": {
        "id": "LrXwLqyVUAsV",
        "colab_type": "code",
        "colab": {
          "base_uri": "https://localhost:8080/",
          "height": 1000
        },
        "outputId": "112e8c4c-42e3-42ee-d26e-92967c06015f"
      },
      "source": [
        "gpt2.generate(sess,\n",
        "              length=250,\n",
        "              temperature=0.7,\n",
        "              prefix=\"Gentlemen \",\n",
        "              nsamples=5,\n",
        "              batch_size=5\n",
        "              )"
      ],
      "execution_count": 3,
      "outputs": [
        {
          "output_type": "stream",
          "text": [
            "Gentlemen  as follows, and that they may be\n",
            "observed by any one who may be in our country.\n",
            "\n",
            "On the 10th of June last the Reverend Father of the\n",
            "Church of the Nazarene and the Reverend Preacher of the\n",
            "Nazarene Church were delivered over to the custody of the\n",
            "Governor of the United States, and on the 30th of\n",
            "January last the Reverend Father was again delivered to the\n",
            "Governor, and on the 1st of March last the Reverend\n",
            "Father was delivered to the Governor, and on the 30th of\n",
            "March last, and on the 1st of September last, the Governor\n",
            "delivered the Reverend Father back to the States of the\n",
            "Americas, and on the 30th of September last, and on the\n",
            "30th of September last, the Reverend Father was delivered to the\n",
            "Governor, and on the 1st of October, and on the 31st of\n",
            "September, the Governor delivered him over to the States of\n",
            "the Americas, and on the 1st of October, and on the\n",
            "31st of September, the Reverend Father was delivered over to the\n",
            "States of the Americas, and on the 1st of October, and on the\n",
            "31\n",
            "====================\n",
            "Gentlemen \n",
            "I am glad to announce that I have entered upon my second term as President.\n",
            "I am well aware that the year ends in the triple digit\n",
            "number of the hour. But the hour is not the hour, and the President\n",
            "is not the President. What is the hour? Is it the hour? Is it false?\n",
            "Usually it is false. This is not the hour. It is the hour, but not the\n",
            "hour. And so far as the President is concerned, it is the hour.\n",
            "No matter what it may be called, the hour is not the hour.\n",
            "The hour is the hour. It is the hour. It is the hour, but not the\n",
            "hour. And so far as the President is concerned, it is the hour.\n",
            "It is the hour. It is the hour, but not the hour. And so far as the\n",
            "President is concerned, it is the hour.\n",
            "\n",
            "There is no issue on which we can seriously differ. The hour is\n",
            "the hour. It is the hour, but not the hour. And so far as the\n",
            "President is concerned, it is the hour.\n",
            "\n",
            "The President is not the President.\n",
            "\n",
            "The President is not the President\n",
            "====================\n",
            "Gentlemen  -and\n",
            "the officers of the Navy, without being authorized to do so,\n",
            "arrived at the scene of the accident, and, finding the\n",
            "ship in her usual state of repair and not the cause of\n",
            "additional cause of the accident, directed the repair and\n",
            "examinations to be discontinued; but after the examinations had\n",
            "failed to produce any material results, the experiment was\n",
            "repeated without the knowledge and acquiescence of the\n",
            "officers of the Navy.\n",
            "\n",
            "I have not failed to notice the inexorable tendency of\n",
            "Congress to permit the exercise of the power of the\n",
            "exercise of which some years ago Congress expressed the\n",
            "intention, which, indeed, I regret to have to accuse\n",
            "them of committing, to curtail the exercise of, by the exercise\n",
            "and enactment of, the implied power to regulate\n",
            "the exercise of that power by injurious discrimination. I can\n",
            "not too strongly urge upon your attention the propriety of\n",
            "regulating the exercise of this power by the enforcement of\n",
            "greater rigor in the observance of a rule than is now\n",
            "presumed, and in view of the fact that the exercise of the\n",
            "power is a power which, in the exercise of which the\n",
            "====================\n",
            "Gentlemen \n",
            "of the Senate and of the House of Representatives of the United\n",
            "States, and I approve the report of the Secretary of war.\n",
            "\n",
            "In the report it is stated that in the year 1816 the Army was\n",
            "full of twenty-six corps, of which six were called for service\n",
            "on the Pacific, and that in the year 1817 the number was reduced to\n",
            "seven corps and that in the year 1818 the number was reduced to eight\n",
            "corps.\n",
            "\n",
            "In the preceding year, however, the number of corps was\n",
            "nearly double the amount shown on the quarterly report of\n",
            "the Secretary.\n",
            "\n",
            "I am glad to state that the number of officers in the Army,\n",
            "including the junior grade, has since the year 1816 been\n",
            "nearly thirty-five per cent higher than in the preceding year,\n",
            "and that the number of officers in the Army on the first day of January,\n",
            "1817, was three times greater than the number on the first day of\n",
            "January, 1818.\n",
            "\n",
            "In addition to the six corps in the Army who were called for\n",
            "service on the Pacific, there are also six corps in the\n",
            "Army on the Atlantic and one on the Pacific.\n",
            "\n",
            "\n",
            "====================\n",
            "Gentlemen \n",
            "--and a very large portion of our citizens are idle and without\n",
            "returning to the work of their daily lives.\n",
            "\n",
            "The large majority of our citizens have not lost their employment,\n",
            "and the average wage of an American is now higher than ever\n",
            "before in history. But there are still many out there who have\n",
            "underestimated the strength of our country. They are wrong. The\n",
            "power of the Federal Government is, and must ever be, to\n",
            "help the American people.\n",
            "\n",
            "The hour is come when we have to give their Government a\n",
            "revolution of new and serious importance and importance.\n",
            "\n",
            "We must continue to make our country a better place to live in, a\n",
            "better place to work in, a better place to raise a family in.\n",
            "We must continue to protect our environment and to improve it\n",
            "for the benefit of future generations.\n",
            "\n",
            "We must not let our people down by not acting. The United States\n",
            "must always be prepared to act to meet the needs of its people, to\n",
            "face the problems of the world.\n",
            "\n",
            "The measure of strength in our country is not the quantity of\n",
            "troops that go into battle but the quality of our people. The\n",
            "numbers\n",
            "====================\n"
          ],
          "name": "stdout"
        }
      ]
    },
    {
      "cell_type": "markdown",
      "metadata": {
        "id": "zjjEN2Tafhl2",
        "colab_type": "text"
      },
      "source": [
        "For bulk generation, you can generate a large amount of text to a file and sort out the samples locally on your computer. The next cell will generate a generated text file with a unique timestamp and then download it.\n",
        "\n",
        "You can rerun the cell as many times as you want for even more generated texts!"
      ]
    },
    {
      "cell_type": "code",
      "metadata": {
        "id": "Fa6p6arifSL0",
        "colab_type": "code",
        "colab": {}
      },
      "source": [
        "gen_file = 'gpt2_gentext_{:%Y%m%d_%H%M%S}.txt'.format(datetime.utcnow())\n",
        "\n",
        "gpt2.generate_to_file(sess,\n",
        "                      destination_path=gen_file,\n",
        "                      length=500,\n",
        "                      temperature=0.7,\n",
        "                      nsamples=100,\n",
        "                      batch_size=20\n",
        "                      )\n",
        "\n",
        "files.download(gen_file)"
      ],
      "execution_count": 0,
      "outputs": []
    }
  ]
}