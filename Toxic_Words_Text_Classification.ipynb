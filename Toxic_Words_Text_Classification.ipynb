{
  "nbformat": 4,
  "nbformat_minor": 0,
  "metadata": {
    "colab": {
      "name": "Toxic Words Text Classification.ipynb",
      "provenance": [],
      "collapsed_sections": [],
      "include_colab_link": true
    },
    "kernelspec": {
      "name": "python3",
      "display_name": "Python 3"
    },
    "accelerator": "GPU"
  },
  "cells": [
    {
      "cell_type": "markdown",
      "metadata": {
        "id": "view-in-github",
        "colab_type": "text"
      },
      "source": [
        "<a href=\"https://colab.research.google.com/github/isaacyeos/nlp/blob/master/Toxic_Words_Text_Classification.ipynb\" target=\"_parent\"><img src=\"https://colab.research.google.com/assets/colab-badge.svg\" alt=\"Open In Colab\"/></a>"
      ]
    },
    {
      "cell_type": "code",
      "metadata": {
        "id": "KHRvF17C7vjB",
        "colab_type": "code",
        "colab": {}
      },
      "source": [
        "%tensorflow_version 2.x"
      ],
      "execution_count": 0,
      "outputs": []
    },
    {
      "cell_type": "code",
      "metadata": {
        "id": "hxsPFuahqc0e",
        "colab_type": "code",
        "colab": {}
      },
      "source": [
        "%matplotlib inline\n",
        "import matplotlib.pyplot as plt\n",
        "plt.style.use(\"ggplot\")\n",
        "\n",
        "import pandas as pd\n",
        "import numpy as np\n",
        "\n",
        "import tensorflow as tf\n",
        "\n",
        "from tensorflow.keras.preprocessing import sequence\n",
        "from tensorflow.keras.preprocessing.text import Tokenizer\n",
        "\n",
        "from tensorflow.keras.optimizers import Adam"
      ],
      "execution_count": 0,
      "outputs": []
    },
    {
      "cell_type": "code",
      "metadata": {
        "id": "UUgRwAT1JVG0",
        "colab_type": "code",
        "outputId": "c1a95d61-aa01-4364-a5cd-c5daf6d5590e",
        "colab": {
          "base_uri": "https://localhost:8080/",
          "height": 122
        }
      },
      "source": [
        "from google.colab import drive\n",
        "drive.mount('/content/gdrive')"
      ],
      "execution_count": 0,
      "outputs": [
        {
          "output_type": "stream",
          "text": [
            "Go to this URL in a browser: https://accounts.google.com/o/oauth2/auth?client_id=947318989803-6bn6qk8qdgf4n4g3pfee6491hc0brc4i.apps.googleusercontent.com&redirect_uri=urn%3aietf%3awg%3aoauth%3a2.0%3aoob&response_type=code&scope=email%20https%3a%2f%2fwww.googleapis.com%2fauth%2fdocs.test%20https%3a%2f%2fwww.googleapis.com%2fauth%2fdrive%20https%3a%2f%2fwww.googleapis.com%2fauth%2fdrive.photos.readonly%20https%3a%2f%2fwww.googleapis.com%2fauth%2fpeopleapi.readonly\n",
            "\n",
            "Enter your authorization code:\n",
            "··········\n",
            "Mounted at /content/gdrive\n"
          ],
          "name": "stdout"
        }
      ]
    },
    {
      "cell_type": "code",
      "metadata": {
        "id": "uPEXeZQbJZHP",
        "colab_type": "code",
        "colab": {}
      },
      "source": [
        "train_file = \"gdrive/My Drive/0-software_dev_notes/nlp/toxic-comment-classification/train_preprocessed.csv\"\n",
        "test_file = \"gdrive/My Drive/0-software_dev_notes/nlp/toxic-comment-classification/test_preprocessed.csv\"\n",
        "test_labels = \"gdrive/My Drive/0-software_dev_notes/nlp/toxic-comment-classification/test_labels.csv\""
      ],
      "execution_count": 0,
      "outputs": []
    },
    {
      "cell_type": "code",
      "metadata": {
        "id": "y_SoKN-sqpyQ",
        "colab_type": "code",
        "colab": {}
      },
      "source": [
        "test_labels_df = pd.read_csv(test_labels).fillna(\"blank\")\n",
        "train_df = pd.read_csv(train_file).fillna(\"blank\")\n",
        "# train_df[[\"toxic\", \"severe_toxic\", \"obscene\", \"threat\", \"insult\", \"identity_hate\"]] = train_df[[\"toxic\", \"severe_toxic\", \"obscene\", \"threat\", \"insult\", \"identity_hate\"]].astype(int)\n",
        "# test_df = pd.read_csv(test_file).fillna(\"blank\")\n",
        "test_df = pd.read_csv(test_file)\n",
        "test_df = test_df.combine_first(test_labels_df)"
      ],
      "execution_count": 0,
      "outputs": []
    },
    {
      "cell_type": "code",
      "metadata": {
        "id": "9gzxsLEJqp0n",
        "colab_type": "code",
        "outputId": "22f20e39-f24d-43e1-8cfc-2de1f70bc7bb",
        "colab": {
          "base_uri": "https://localhost:8080/",
          "height": 669
        }
      },
      "source": [
        "train_df.head(20)"
      ],
      "execution_count": 0,
      "outputs": [
        {
          "output_type": "execute_result",
          "data": {
            "text/html": [
              "<div>\n",
              "<style scoped>\n",
              "    .dataframe tbody tr th:only-of-type {\n",
              "        vertical-align: middle;\n",
              "    }\n",
              "\n",
              "    .dataframe tbody tr th {\n",
              "        vertical-align: top;\n",
              "    }\n",
              "\n",
              "    .dataframe thead th {\n",
              "        text-align: right;\n",
              "    }\n",
              "</style>\n",
              "<table border=\"1\" class=\"dataframe\">\n",
              "  <thead>\n",
              "    <tr style=\"text-align: right;\">\n",
              "      <th></th>\n",
              "      <th>comment_text</th>\n",
              "      <th>id</th>\n",
              "      <th>identity_hate</th>\n",
              "      <th>insult</th>\n",
              "      <th>obscene</th>\n",
              "      <th>set</th>\n",
              "      <th>severe_toxic</th>\n",
              "      <th>threat</th>\n",
              "      <th>toxic</th>\n",
              "      <th>toxicity</th>\n",
              "    </tr>\n",
              "  </thead>\n",
              "  <tbody>\n",
              "    <tr>\n",
              "      <th>0</th>\n",
              "      <td>explanation why the edits made under my userna...</td>\n",
              "      <td>0000997932d777bf</td>\n",
              "      <td>0.0</td>\n",
              "      <td>0.0</td>\n",
              "      <td>0.0</td>\n",
              "      <td>train</td>\n",
              "      <td>0.0</td>\n",
              "      <td>0.0</td>\n",
              "      <td>0.0</td>\n",
              "      <td>0.0</td>\n",
              "    </tr>\n",
              "    <tr>\n",
              "      <th>1</th>\n",
              "      <td>d aww  he matches this background colour i m s...</td>\n",
              "      <td>000103f0d9cfb60f</td>\n",
              "      <td>0.0</td>\n",
              "      <td>0.0</td>\n",
              "      <td>0.0</td>\n",
              "      <td>train</td>\n",
              "      <td>0.0</td>\n",
              "      <td>0.0</td>\n",
              "      <td>0.0</td>\n",
              "      <td>0.0</td>\n",
              "    </tr>\n",
              "    <tr>\n",
              "      <th>2</th>\n",
              "      <td>hey man  i m really not trying to edit war  it...</td>\n",
              "      <td>000113f07ec002fd</td>\n",
              "      <td>0.0</td>\n",
              "      <td>0.0</td>\n",
              "      <td>0.0</td>\n",
              "      <td>train</td>\n",
              "      <td>0.0</td>\n",
              "      <td>0.0</td>\n",
              "      <td>0.0</td>\n",
              "      <td>0.0</td>\n",
              "    </tr>\n",
              "    <tr>\n",
              "      <th>3</th>\n",
              "      <td>more i can t make any real suggestions on im...</td>\n",
              "      <td>0001b41b1c6bb37e</td>\n",
              "      <td>0.0</td>\n",
              "      <td>0.0</td>\n",
              "      <td>0.0</td>\n",
              "      <td>train</td>\n",
              "      <td>0.0</td>\n",
              "      <td>0.0</td>\n",
              "      <td>0.0</td>\n",
              "      <td>0.0</td>\n",
              "    </tr>\n",
              "    <tr>\n",
              "      <th>4</th>\n",
              "      <td>you  sir  are my hero  any chance you remember...</td>\n",
              "      <td>0001d958c54c6e35</td>\n",
              "      <td>0.0</td>\n",
              "      <td>0.0</td>\n",
              "      <td>0.0</td>\n",
              "      <td>train</td>\n",
              "      <td>0.0</td>\n",
              "      <td>0.0</td>\n",
              "      <td>0.0</td>\n",
              "      <td>0.0</td>\n",
              "    </tr>\n",
              "    <tr>\n",
              "      <th>5</th>\n",
              "      <td>congratulations from me as well  use the tool...</td>\n",
              "      <td>00025465d4725e87</td>\n",
              "      <td>0.0</td>\n",
              "      <td>0.0</td>\n",
              "      <td>0.0</td>\n",
              "      <td>train</td>\n",
              "      <td>0.0</td>\n",
              "      <td>0.0</td>\n",
              "      <td>0.0</td>\n",
              "      <td>0.0</td>\n",
              "    </tr>\n",
              "    <tr>\n",
              "      <th>6</th>\n",
              "      <td>cock  suck before you piss around on my work</td>\n",
              "      <td>0002bcb3da6cb337</td>\n",
              "      <td>0.0</td>\n",
              "      <td>1.0</td>\n",
              "      <td>1.0</td>\n",
              "      <td>train</td>\n",
              "      <td>1.0</td>\n",
              "      <td>0.0</td>\n",
              "      <td>1.0</td>\n",
              "      <td>4.0</td>\n",
              "    </tr>\n",
              "    <tr>\n",
              "      <th>7</th>\n",
              "      <td>your vandalism to the matt shirvington article...</td>\n",
              "      <td>00031b1e95af7921</td>\n",
              "      <td>0.0</td>\n",
              "      <td>0.0</td>\n",
              "      <td>0.0</td>\n",
              "      <td>train</td>\n",
              "      <td>0.0</td>\n",
              "      <td>0.0</td>\n",
              "      <td>0.0</td>\n",
              "      <td>0.0</td>\n",
              "    </tr>\n",
              "    <tr>\n",
              "      <th>8</th>\n",
              "      <td>sorry if the word  nonsense  was offensive to ...</td>\n",
              "      <td>00037261f536c51d</td>\n",
              "      <td>0.0</td>\n",
              "      <td>0.0</td>\n",
              "      <td>0.0</td>\n",
              "      <td>train</td>\n",
              "      <td>0.0</td>\n",
              "      <td>0.0</td>\n",
              "      <td>0.0</td>\n",
              "      <td>0.0</td>\n",
              "    </tr>\n",
              "    <tr>\n",
              "      <th>9</th>\n",
              "      <td>alignment on this subject and which are contra...</td>\n",
              "      <td>00040093b2687caa</td>\n",
              "      <td>0.0</td>\n",
              "      <td>0.0</td>\n",
              "      <td>0.0</td>\n",
              "      <td>train</td>\n",
              "      <td>0.0</td>\n",
              "      <td>0.0</td>\n",
              "      <td>0.0</td>\n",
              "      <td>0.0</td>\n",
              "    </tr>\n",
              "    <tr>\n",
              "      <th>10</th>\n",
              "      <td>fair use rationale for image wonju jpg  than...</td>\n",
              "      <td>0005300084f90edc</td>\n",
              "      <td>0.0</td>\n",
              "      <td>0.0</td>\n",
              "      <td>0.0</td>\n",
              "      <td>train</td>\n",
              "      <td>0.0</td>\n",
              "      <td>0.0</td>\n",
              "      <td>0.0</td>\n",
              "      <td>0.0</td>\n",
              "    </tr>\n",
              "    <tr>\n",
              "      <th>11</th>\n",
              "      <td>bbq be a man and lets discuss it maybe over th...</td>\n",
              "      <td>00054a5e18b50dd4</td>\n",
              "      <td>0.0</td>\n",
              "      <td>0.0</td>\n",
              "      <td>0.0</td>\n",
              "      <td>train</td>\n",
              "      <td>0.0</td>\n",
              "      <td>0.0</td>\n",
              "      <td>0.0</td>\n",
              "      <td>0.0</td>\n",
              "    </tr>\n",
              "    <tr>\n",
              "      <th>12</th>\n",
              "      <td>hey  what is it talk what is it  an exclusive ...</td>\n",
              "      <td>0005c987bdfc9d4b</td>\n",
              "      <td>0.0</td>\n",
              "      <td>0.0</td>\n",
              "      <td>0.0</td>\n",
              "      <td>train</td>\n",
              "      <td>0.0</td>\n",
              "      <td>0.0</td>\n",
              "      <td>1.0</td>\n",
              "      <td>1.0</td>\n",
              "    </tr>\n",
              "    <tr>\n",
              "      <th>13</th>\n",
              "      <td>before you start throwing accusations and warn...</td>\n",
              "      <td>0006f16e4e9f292e</td>\n",
              "      <td>0.0</td>\n",
              "      <td>0.0</td>\n",
              "      <td>0.0</td>\n",
              "      <td>train</td>\n",
              "      <td>0.0</td>\n",
              "      <td>0.0</td>\n",
              "      <td>0.0</td>\n",
              "      <td>0.0</td>\n",
              "    </tr>\n",
              "    <tr>\n",
              "      <th>14</th>\n",
              "      <td>oh  and the girl above started her arguments w...</td>\n",
              "      <td>00070ef96486d6f9</td>\n",
              "      <td>0.0</td>\n",
              "      <td>0.0</td>\n",
              "      <td>0.0</td>\n",
              "      <td>train</td>\n",
              "      <td>0.0</td>\n",
              "      <td>0.0</td>\n",
              "      <td>0.0</td>\n",
              "      <td>0.0</td>\n",
              "    </tr>\n",
              "    <tr>\n",
              "      <th>15</th>\n",
              "      <td>juelz santanas age  in juelz santana was year...</td>\n",
              "      <td>00078f8ce7eb276d</td>\n",
              "      <td>0.0</td>\n",
              "      <td>0.0</td>\n",
              "      <td>0.0</td>\n",
              "      <td>train</td>\n",
              "      <td>0.0</td>\n",
              "      <td>0.0</td>\n",
              "      <td>0.0</td>\n",
              "      <td>0.0</td>\n",
              "    </tr>\n",
              "    <tr>\n",
              "      <th>16</th>\n",
              "      <td>bye  don t look  come or think of comming back...</td>\n",
              "      <td>0007e25b2121310b</td>\n",
              "      <td>0.0</td>\n",
              "      <td>0.0</td>\n",
              "      <td>0.0</td>\n",
              "      <td>train</td>\n",
              "      <td>0.0</td>\n",
              "      <td>0.0</td>\n",
              "      <td>1.0</td>\n",
              "      <td>1.0</td>\n",
              "    </tr>\n",
              "    <tr>\n",
              "      <th>17</th>\n",
              "      <td>redirect talk voydan pop georgiev  chernodrinski</td>\n",
              "      <td>000897889268bc93</td>\n",
              "      <td>0.0</td>\n",
              "      <td>0.0</td>\n",
              "      <td>0.0</td>\n",
              "      <td>train</td>\n",
              "      <td>0.0</td>\n",
              "      <td>0.0</td>\n",
              "      <td>0.0</td>\n",
              "      <td>0.0</td>\n",
              "    </tr>\n",
              "    <tr>\n",
              "      <th>18</th>\n",
              "      <td>the mitsurugi point made no sense why not argu...</td>\n",
              "      <td>0009801bd85e5806</td>\n",
              "      <td>0.0</td>\n",
              "      <td>0.0</td>\n",
              "      <td>0.0</td>\n",
              "      <td>train</td>\n",
              "      <td>0.0</td>\n",
              "      <td>0.0</td>\n",
              "      <td>0.0</td>\n",
              "      <td>0.0</td>\n",
              "    </tr>\n",
              "    <tr>\n",
              "      <th>19</th>\n",
              "      <td>don t mean to bother you i see that you re wri...</td>\n",
              "      <td>0009eaea3325de8c</td>\n",
              "      <td>0.0</td>\n",
              "      <td>0.0</td>\n",
              "      <td>0.0</td>\n",
              "      <td>train</td>\n",
              "      <td>0.0</td>\n",
              "      <td>0.0</td>\n",
              "      <td>0.0</td>\n",
              "      <td>0.0</td>\n",
              "    </tr>\n",
              "  </tbody>\n",
              "</table>\n",
              "</div>"
            ],
            "text/plain": [
              "                                         comment_text  ... toxicity\n",
              "0   explanation why the edits made under my userna...  ...      0.0\n",
              "1   d aww  he matches this background colour i m s...  ...      0.0\n",
              "2   hey man  i m really not trying to edit war  it...  ...      0.0\n",
              "3     more i can t make any real suggestions on im...  ...      0.0\n",
              "4   you  sir  are my hero  any chance you remember...  ...      0.0\n",
              "5    congratulations from me as well  use the tool...  ...      0.0\n",
              "6        cock  suck before you piss around on my work  ...      4.0\n",
              "7   your vandalism to the matt shirvington article...  ...      0.0\n",
              "8   sorry if the word  nonsense  was offensive to ...  ...      0.0\n",
              "9   alignment on this subject and which are contra...  ...      0.0\n",
              "10    fair use rationale for image wonju jpg  than...  ...      0.0\n",
              "11  bbq be a man and lets discuss it maybe over th...  ...      0.0\n",
              "12  hey  what is it talk what is it  an exclusive ...  ...      1.0\n",
              "13  before you start throwing accusations and warn...  ...      0.0\n",
              "14  oh  and the girl above started her arguments w...  ...      0.0\n",
              "15   juelz santanas age  in juelz santana was year...  ...      0.0\n",
              "16  bye  don t look  come or think of comming back...  ...      1.0\n",
              "17   redirect talk voydan pop georgiev  chernodrinski  ...      0.0\n",
              "18  the mitsurugi point made no sense why not argu...  ...      0.0\n",
              "19  don t mean to bother you i see that you re wri...  ...      0.0\n",
              "\n",
              "[20 rows x 10 columns]"
            ]
          },
          "metadata": {
            "tags": []
          },
          "execution_count": 6
        }
      ]
    },
    {
      "cell_type": "code",
      "metadata": {
        "id": "atLSSuZJuPIx",
        "colab_type": "code",
        "outputId": "4e06a1f3-018d-45ee-d30c-7cec6c6e68d4",
        "colab": {
          "base_uri": "https://localhost:8080/",
          "height": 34
        }
      },
      "source": [
        "train_df.shape"
      ],
      "execution_count": 0,
      "outputs": [
        {
          "output_type": "execute_result",
          "data": {
            "text/plain": [
              "(159571, 10)"
            ]
          },
          "metadata": {
            "tags": []
          },
          "execution_count": 7
        }
      ]
    },
    {
      "cell_type": "code",
      "metadata": {
        "id": "vKdJmKajHShK",
        "colab_type": "code",
        "colab": {}
      },
      "source": [
        "test_df = test_df[test_df.identity_hate != -1.0]"
      ],
      "execution_count": 0,
      "outputs": []
    },
    {
      "cell_type": "code",
      "metadata": {
        "id": "M0UIRQYjHdR4",
        "colab_type": "code",
        "outputId": "3563c75c-7629-4942-96f0-c03eb8734979",
        "colab": {
          "base_uri": "https://localhost:8080/",
          "height": 669
        }
      },
      "source": [
        "test_df.head(20)"
      ],
      "execution_count": 0,
      "outputs": [
        {
          "output_type": "execute_result",
          "data": {
            "text/html": [
              "<div>\n",
              "<style scoped>\n",
              "    .dataframe tbody tr th:only-of-type {\n",
              "        vertical-align: middle;\n",
              "    }\n",
              "\n",
              "    .dataframe tbody tr th {\n",
              "        vertical-align: top;\n",
              "    }\n",
              "\n",
              "    .dataframe thead th {\n",
              "        text-align: right;\n",
              "    }\n",
              "</style>\n",
              "<table border=\"1\" class=\"dataframe\">\n",
              "  <thead>\n",
              "    <tr style=\"text-align: right;\">\n",
              "      <th></th>\n",
              "      <th>comment_text</th>\n",
              "      <th>id</th>\n",
              "      <th>identity_hate</th>\n",
              "      <th>insult</th>\n",
              "      <th>obscene</th>\n",
              "      <th>set</th>\n",
              "      <th>severe_toxic</th>\n",
              "      <th>threat</th>\n",
              "      <th>toxic</th>\n",
              "      <th>toxicity</th>\n",
              "    </tr>\n",
              "  </thead>\n",
              "  <tbody>\n",
              "    <tr>\n",
              "      <th>5</th>\n",
              "      <td>thank you for understanding  i think very high...</td>\n",
              "      <td>0001ea8717f6de06</td>\n",
              "      <td>0.0</td>\n",
              "      <td>0.0</td>\n",
              "      <td>0.0</td>\n",
              "      <td>test</td>\n",
              "      <td>0.0</td>\n",
              "      <td>0.0</td>\n",
              "      <td>0.0</td>\n",
              "      <td>NaN</td>\n",
              "    </tr>\n",
              "    <tr>\n",
              "      <th>7</th>\n",
              "      <td>dear god this site is horrible</td>\n",
              "      <td>000247e83dcc1211</td>\n",
              "      <td>0.0</td>\n",
              "      <td>0.0</td>\n",
              "      <td>0.0</td>\n",
              "      <td>test</td>\n",
              "      <td>0.0</td>\n",
              "      <td>0.0</td>\n",
              "      <td>0.0</td>\n",
              "      <td>NaN</td>\n",
              "    </tr>\n",
              "    <tr>\n",
              "      <th>11</th>\n",
              "      <td>somebody will invariably try to add religion ...</td>\n",
              "      <td>0002f87b16116a7f</td>\n",
              "      <td>0.0</td>\n",
              "      <td>0.0</td>\n",
              "      <td>0.0</td>\n",
              "      <td>test</td>\n",
              "      <td>0.0</td>\n",
              "      <td>0.0</td>\n",
              "      <td>0.0</td>\n",
              "      <td>NaN</td>\n",
              "    </tr>\n",
              "    <tr>\n",
              "      <th>13</th>\n",
              "      <td>it says it right there that it is a type  the...</td>\n",
              "      <td>0003e1cccfd5a40a</td>\n",
              "      <td>0.0</td>\n",
              "      <td>0.0</td>\n",
              "      <td>0.0</td>\n",
              "      <td>test</td>\n",
              "      <td>0.0</td>\n",
              "      <td>0.0</td>\n",
              "      <td>0.0</td>\n",
              "      <td>NaN</td>\n",
              "    </tr>\n",
              "    <tr>\n",
              "      <th>14</th>\n",
              "      <td>before adding a new product to the list  make...</td>\n",
              "      <td>00059ace3e3e9a53</td>\n",
              "      <td>0.0</td>\n",
              "      <td>0.0</td>\n",
              "      <td>0.0</td>\n",
              "      <td>test</td>\n",
              "      <td>0.0</td>\n",
              "      <td>0.0</td>\n",
              "      <td>0.0</td>\n",
              "      <td>NaN</td>\n",
              "    </tr>\n",
              "    <tr>\n",
              "      <th>16</th>\n",
              "      <td>this other one from</td>\n",
              "      <td>000663aff0fffc80</td>\n",
              "      <td>0.0</td>\n",
              "      <td>0.0</td>\n",
              "      <td>0.0</td>\n",
              "      <td>test</td>\n",
              "      <td>0.0</td>\n",
              "      <td>0.0</td>\n",
              "      <td>0.0</td>\n",
              "      <td>NaN</td>\n",
              "    </tr>\n",
              "    <tr>\n",
              "      <th>17</th>\n",
              "      <td>reason for banning throwing this article need...</td>\n",
              "      <td>000689dd34e20979</td>\n",
              "      <td>0.0</td>\n",
              "      <td>0.0</td>\n",
              "      <td>0.0</td>\n",
              "      <td>test</td>\n",
              "      <td>0.0</td>\n",
              "      <td>0.0</td>\n",
              "      <td>0.0</td>\n",
              "      <td>NaN</td>\n",
              "    </tr>\n",
              "    <tr>\n",
              "      <th>19</th>\n",
              "      <td>block  from editing wikipedia</td>\n",
              "      <td>000844b52dee5f3f</td>\n",
              "      <td>0.0</td>\n",
              "      <td>0.0</td>\n",
              "      <td>0.0</td>\n",
              "      <td>test</td>\n",
              "      <td>0.0</td>\n",
              "      <td>0.0</td>\n",
              "      <td>0.0</td>\n",
              "      <td>NaN</td>\n",
              "    </tr>\n",
              "    <tr>\n",
              "      <th>21</th>\n",
              "      <td>arabs are committing genocide in iraq  but no...</td>\n",
              "      <td>00091c35fa9d0465</td>\n",
              "      <td>0.0</td>\n",
              "      <td>0.0</td>\n",
              "      <td>0.0</td>\n",
              "      <td>test</td>\n",
              "      <td>0.0</td>\n",
              "      <td>0.0</td>\n",
              "      <td>1.0</td>\n",
              "      <td>NaN</td>\n",
              "    </tr>\n",
              "    <tr>\n",
              "      <th>22</th>\n",
              "      <td>please stop  if you continue to vandalize wiki...</td>\n",
              "      <td>000968ce11f5ee34</td>\n",
              "      <td>0.0</td>\n",
              "      <td>0.0</td>\n",
              "      <td>0.0</td>\n",
              "      <td>test</td>\n",
              "      <td>0.0</td>\n",
              "      <td>0.0</td>\n",
              "      <td>0.0</td>\n",
              "      <td>NaN</td>\n",
              "    </tr>\n",
              "    <tr>\n",
              "      <th>23</th>\n",
              "      <td>energy i have edited the introduction  becaus...</td>\n",
              "      <td>0009734200a85047</td>\n",
              "      <td>0.0</td>\n",
              "      <td>0.0</td>\n",
              "      <td>0.0</td>\n",
              "      <td>test</td>\n",
              "      <td>0.0</td>\n",
              "      <td>0.0</td>\n",
              "      <td>0.0</td>\n",
              "      <td>NaN</td>\n",
              "    </tr>\n",
              "    <tr>\n",
              "      <th>26</th>\n",
              "      <td>redslash  cut it short  if you have sources s...</td>\n",
              "      <td>000a02d807ae0254</td>\n",
              "      <td>0.0</td>\n",
              "      <td>0.0</td>\n",
              "      <td>0.0</td>\n",
              "      <td>test</td>\n",
              "      <td>0.0</td>\n",
              "      <td>0.0</td>\n",
              "      <td>0.0</td>\n",
              "      <td>NaN</td>\n",
              "    </tr>\n",
              "    <tr>\n",
              "      <th>28</th>\n",
              "      <td>jew s are not a race because you can only ge...</td>\n",
              "      <td>000bafe2080bba82</td>\n",
              "      <td>0.0</td>\n",
              "      <td>0.0</td>\n",
              "      <td>0.0</td>\n",
              "      <td>test</td>\n",
              "      <td>0.0</td>\n",
              "      <td>0.0</td>\n",
              "      <td>0.0</td>\n",
              "      <td>NaN</td>\n",
              "    </tr>\n",
              "    <tr>\n",
              "      <th>29</th>\n",
              "      <td>if ollie or others think that one list of the...</td>\n",
              "      <td>000bf0a9894b2807</td>\n",
              "      <td>0.0</td>\n",
              "      <td>0.0</td>\n",
              "      <td>0.0</td>\n",
              "      <td>test</td>\n",
              "      <td>0.0</td>\n",
              "      <td>0.0</td>\n",
              "      <td>0.0</td>\n",
              "      <td>NaN</td>\n",
              "    </tr>\n",
              "    <tr>\n",
              "      <th>31</th>\n",
              "      <td>professors to the manhatten project</td>\n",
              "      <td>000c9b92318552d1</td>\n",
              "      <td>0.0</td>\n",
              "      <td>0.0</td>\n",
              "      <td>0.0</td>\n",
              "      <td>test</td>\n",
              "      <td>0.0</td>\n",
              "      <td>0.0</td>\n",
              "      <td>0.0</td>\n",
              "      <td>NaN</td>\n",
              "    </tr>\n",
              "    <tr>\n",
              "      <th>33</th>\n",
              "      <td>not sure whether this is notable enough to be...</td>\n",
              "      <td>000cf60dbaed8c02</td>\n",
              "      <td>0.0</td>\n",
              "      <td>0.0</td>\n",
              "      <td>0.0</td>\n",
              "      <td>test</td>\n",
              "      <td>0.0</td>\n",
              "      <td>0.0</td>\n",
              "      <td>0.0</td>\n",
              "      <td>NaN</td>\n",
              "    </tr>\n",
              "    <tr>\n",
              "      <th>34</th>\n",
              "      <td>i have seven years of life and i have ten year...</td>\n",
              "      <td>000d4f120d5a7303</td>\n",
              "      <td>0.0</td>\n",
              "      <td>0.0</td>\n",
              "      <td>0.0</td>\n",
              "      <td>test</td>\n",
              "      <td>0.0</td>\n",
              "      <td>0.0</td>\n",
              "      <td>0.0</td>\n",
              "      <td>NaN</td>\n",
              "    </tr>\n",
              "    <tr>\n",
              "      <th>38</th>\n",
              "      <td>balance this page has one sentence about the ...</td>\n",
              "      <td>001068b809feee6b</td>\n",
              "      <td>0.0</td>\n",
              "      <td>0.0</td>\n",
              "      <td>0.0</td>\n",
              "      <td>test</td>\n",
              "      <td>0.0</td>\n",
              "      <td>0.0</td>\n",
              "      <td>0.0</td>\n",
              "      <td>NaN</td>\n",
              "    </tr>\n",
              "    <tr>\n",
              "      <th>40</th>\n",
              "      <td>redirect talk my life is you</td>\n",
              "      <td>0011cefc680993ba</td>\n",
              "      <td>0.0</td>\n",
              "      <td>0.0</td>\n",
              "      <td>0.0</td>\n",
              "      <td>test</td>\n",
              "      <td>0.0</td>\n",
              "      <td>0.0</td>\n",
              "      <td>0.0</td>\n",
              "      <td>NaN</td>\n",
              "    </tr>\n",
              "    <tr>\n",
              "      <th>41</th>\n",
              "      <td>i m not convinced that he was blind  where is...</td>\n",
              "      <td>0011ef6aa33d42e6</td>\n",
              "      <td>0.0</td>\n",
              "      <td>0.0</td>\n",
              "      <td>0.0</td>\n",
              "      <td>test</td>\n",
              "      <td>0.0</td>\n",
              "      <td>0.0</td>\n",
              "      <td>0.0</td>\n",
              "      <td>NaN</td>\n",
              "    </tr>\n",
              "  </tbody>\n",
              "</table>\n",
              "</div>"
            ],
            "text/plain": [
              "                                         comment_text  ... toxicity\n",
              "5   thank you for understanding  i think very high...  ...      NaN\n",
              "7                     dear god this site is horrible   ...      NaN\n",
              "11   somebody will invariably try to add religion ...  ...      NaN\n",
              "13   it says it right there that it is a type  the...  ...      NaN\n",
              "14   before adding a new product to the list  make...  ...      NaN\n",
              "16                               this other one from   ...      NaN\n",
              "17   reason for banning throwing this article need...  ...      NaN\n",
              "19                    block  from editing wikipedia    ...      NaN\n",
              "21   arabs are committing genocide in iraq  but no...  ...      NaN\n",
              "22  please stop  if you continue to vandalize wiki...  ...      NaN\n",
              "23   energy i have edited the introduction  becaus...  ...      NaN\n",
              "26   redslash  cut it short  if you have sources s...  ...      NaN\n",
              "28    jew s are not a race because you can only ge...  ...      NaN\n",
              "29   if ollie or others think that one list of the...  ...      NaN\n",
              "31               professors to the manhatten project   ...      NaN\n",
              "33   not sure whether this is notable enough to be...  ...      NaN\n",
              "34  i have seven years of life and i have ten year...  ...      NaN\n",
              "38   balance this page has one sentence about the ...  ...      NaN\n",
              "40                       redirect talk my life is you  ...      NaN\n",
              "41   i m not convinced that he was blind  where is...  ...      NaN\n",
              "\n",
              "[20 rows x 10 columns]"
            ]
          },
          "metadata": {
            "tags": []
          },
          "execution_count": 9
        }
      ]
    },
    {
      "cell_type": "code",
      "metadata": {
        "id": "LqYYYrWHqeYB",
        "colab_type": "code",
        "outputId": "61ec2670-a198-4aea-d068-2ec36110a23b",
        "colab": {
          "base_uri": "https://localhost:8080/",
          "height": 34
        }
      },
      "source": [
        "test_df.shape"
      ],
      "execution_count": 0,
      "outputs": [
        {
          "output_type": "execute_result",
          "data": {
            "text/plain": [
              "(63978, 10)"
            ]
          },
          "metadata": {
            "tags": []
          },
          "execution_count": 10
        }
      ]
    },
    {
      "cell_type": "code",
      "metadata": {
        "id": "p7Xe1zhtL1Sy",
        "colab_type": "code",
        "colab": {}
      },
      "source": [
        "train_df[\"comment_text\"] = train_df[\"comment_text\"].astype(str)\n",
        "test_df[\"comment_text\"] = test_df[\"comment_text\"].astype(str)"
      ],
      "execution_count": 0,
      "outputs": []
    },
    {
      "cell_type": "code",
      "metadata": {
        "id": "xdaB2sdPqp2k",
        "colab_type": "code",
        "colab": {}
      },
      "source": [
        "X_train = train_df[\"comment_text\"].values\n",
        "y_train = train_df[[\"toxic\", \"severe_toxic\", \"obscene\", \"threat\", \"insult\", \"identity_hate\"]].values\n"
      ],
      "execution_count": 0,
      "outputs": []
    },
    {
      "cell_type": "code",
      "metadata": {
        "id": "XDghKcfIAJn0",
        "colab_type": "code",
        "outputId": "662f8e94-1b91-4a14-e109-3e221dc92d65",
        "colab": {
          "base_uri": "https://localhost:8080/",
          "height": 34
        }
      },
      "source": [
        "X_train.shape"
      ],
      "execution_count": 0,
      "outputs": [
        {
          "output_type": "execute_result",
          "data": {
            "text/plain": [
              "(159571,)"
            ]
          },
          "metadata": {
            "tags": []
          },
          "execution_count": 13
        }
      ]
    },
    {
      "cell_type": "code",
      "metadata": {
        "id": "v7t62hj4qp4l",
        "colab_type": "code",
        "outputId": "b89a4866-b374-45ba-950f-62c1c4d4981c",
        "colab": {
          "base_uri": "https://localhost:8080/",
          "height": 34
        }
      },
      "source": [
        "y_train[0]"
      ],
      "execution_count": 0,
      "outputs": [
        {
          "output_type": "execute_result",
          "data": {
            "text/plain": [
              "array([0., 0., 0., 0., 0., 0.])"
            ]
          },
          "metadata": {
            "tags": []
          },
          "execution_count": 14
        }
      ]
    },
    {
      "cell_type": "code",
      "metadata": {
        "colab_type": "code",
        "id": "frnbdxi48Ma5",
        "colab": {}
      },
      "source": [
        "X_test = test_df[\"comment_text\"].values\n",
        "y_test = test_df[[\"toxic\", \"severe_toxic\", \"obscene\", \"threat\", \"insult\", \"identity_hate\"]].values\n"
      ],
      "execution_count": 0,
      "outputs": []
    },
    {
      "cell_type": "code",
      "metadata": {
        "id": "iSchj8p_KuVE",
        "colab_type": "code",
        "outputId": "7185a1c4-ecbe-451a-f065-fe55f1ce741b",
        "colab": {
          "base_uri": "https://localhost:8080/",
          "height": 34
        }
      },
      "source": [
        "X_test.shape"
      ],
      "execution_count": 0,
      "outputs": [
        {
          "output_type": "execute_result",
          "data": {
            "text/plain": [
              "(63978,)"
            ]
          },
          "metadata": {
            "tags": []
          },
          "execution_count": 16
        }
      ]
    },
    {
      "cell_type": "code",
      "metadata": {
        "id": "m1j70AOsqs_o",
        "colab_type": "code",
        "outputId": "4829e683-92ac-4c48-ca36-70174bc0964b",
        "colab": {
          "base_uri": "https://localhost:8080/",
          "height": 34
        }
      },
      "source": [
        "y_test[23]"
      ],
      "execution_count": 0,
      "outputs": [
        {
          "output_type": "execute_result",
          "data": {
            "text/plain": [
              "array([0., 0., 0., 0., 0., 0.])"
            ]
          },
          "metadata": {
            "tags": []
          },
          "execution_count": 17
        }
      ]
    },
    {
      "cell_type": "code",
      "metadata": {
        "id": "lrGl4ZSlIbn0",
        "colab_type": "code",
        "outputId": "5e5a978e-d8be-4f4f-c321-36688201357f",
        "colab": {
          "base_uri": "https://localhost:8080/",
          "height": 204
        }
      },
      "source": [
        "train_df.dtypes"
      ],
      "execution_count": 0,
      "outputs": [
        {
          "output_type": "execute_result",
          "data": {
            "text/plain": [
              "comment_text      object\n",
              "id                object\n",
              "identity_hate    float64\n",
              "insult           float64\n",
              "obscene          float64\n",
              "set               object\n",
              "severe_toxic     float64\n",
              "threat           float64\n",
              "toxic            float64\n",
              "toxicity         float64\n",
              "dtype: object"
            ]
          },
          "metadata": {
            "tags": []
          },
          "execution_count": 18
        }
      ]
    },
    {
      "cell_type": "code",
      "metadata": {
        "id": "3lOnd61UIx8C",
        "colab_type": "code",
        "outputId": "c96c7457-ded3-4f4d-feb0-78af516ce86e",
        "colab": {
          "base_uri": "https://localhost:8080/",
          "height": 204
        }
      },
      "source": [
        "test_df.dtypes"
      ],
      "execution_count": 0,
      "outputs": [
        {
          "output_type": "execute_result",
          "data": {
            "text/plain": [
              "comment_text      object\n",
              "id                object\n",
              "identity_hate    float64\n",
              "insult           float64\n",
              "obscene          float64\n",
              "set               object\n",
              "severe_toxic     float64\n",
              "threat           float64\n",
              "toxic            float64\n",
              "toxicity         float64\n",
              "dtype: object"
            ]
          },
          "metadata": {
            "tags": []
          },
          "execution_count": 19
        }
      ]
    },
    {
      "cell_type": "code",
      "metadata": {
        "id": "AfLicWas6R11",
        "colab_type": "code",
        "colab": {}
      },
      "source": [
        "max_words = 20000\n",
        "max_len = 100\n",
        "\n",
        "tok = Tokenizer(num_words=max_words)\n",
        "# tok = Tokenizer()\n",
        "# tok.fit_on_texts(X_train)\n",
        "tok.fit_on_texts(list(X_train) + list(X_test))\n",
        "\n",
        "train_sequences = tok.texts_to_sequences(X_train)\n",
        "test_sequences = tok.texts_to_sequences(X_test)\n",
        "X_train = sequence.pad_sequences(train_sequences,maxlen=max_len)\n",
        "X_test = sequence.pad_sequences(test_sequences,maxlen=max_len)"
      ],
      "execution_count": 0,
      "outputs": []
    },
    {
      "cell_type": "code",
      "metadata": {
        "id": "0aZsB1oE89ly",
        "colab_type": "code",
        "outputId": "6e333897-7ea6-466e-f7c9-48a596a86084",
        "colab": {
          "base_uri": "https://localhost:8080/",
          "height": 34
        }
      },
      "source": [
        "X_train.shape"
      ],
      "execution_count": 0,
      "outputs": [
        {
          "output_type": "execute_result",
          "data": {
            "text/plain": [
              "(159571, 100)"
            ]
          },
          "metadata": {
            "tags": []
          },
          "execution_count": 21
        }
      ]
    },
    {
      "cell_type": "code",
      "metadata": {
        "id": "oOpJWRsC_Dtp",
        "colab_type": "code",
        "outputId": "7edbf8e2-b61f-4fc6-9a09-c1d8c3d5e408",
        "colab": {
          "base_uri": "https://localhost:8080/",
          "height": 34
        }
      },
      "source": [
        "X_test.shape"
      ],
      "execution_count": 0,
      "outputs": [
        {
          "output_type": "execute_result",
          "data": {
            "text/plain": [
              "(63978, 100)"
            ]
          },
          "metadata": {
            "tags": []
          },
          "execution_count": 22
        }
      ]
    },
    {
      "cell_type": "code",
      "metadata": {
        "id": "FujyfwL79IMW",
        "colab_type": "code",
        "outputId": "7a9b06ea-1939-41cd-ac22-0b376aaf3621",
        "colab": {
          "base_uri": "https://localhost:8080/",
          "height": 187
        }
      },
      "source": [
        "X_train[10]"
      ],
      "execution_count": 0,
      "outputs": [
        {
          "output_type": "execute_result",
          "data": {
            "text/plain": [
              "array([   4,  262,  725,    9,    7,   36,   83,   24,    7,   20,  701,\n",
              "         64, 1380,  402, 1346,    9,    7,   20, 1958,   92,  124,    5,\n",
              "        860,   89,  164,    7,   36,  143,    6,  165,    4, 1380,    7,\n",
              "         20,  701,   34,  429,   13,  170, 1188,    5, 4517,  347,   88,\n",
              "         16,  148,   49,  713,  151,   46,   20,   58,  860,   18,  911,\n",
              "         15,  413,   12,  277,  119,   24,    1,  121,    8, 1401,  182,\n",
              "          6,  278,  200, 1098,  495,   29,  289,   83,   85,    1,  121,\n",
              "         47,   16,  148,  793,  151,   24,    7,   20,   57,  251,   51,\n",
              "        220,   89,   35,    1,  381,  262,  251,   30,  135,    7,   43,\n",
              "        592], dtype=int32)"
            ]
          },
          "metadata": {
            "tags": []
          },
          "execution_count": 23
        }
      ]
    },
    {
      "cell_type": "code",
      "metadata": {
        "id": "QxeigDSbq704",
        "colab_type": "code",
        "outputId": "2d4baff7-4bcd-417a-b467-cd5ba5c7b161",
        "colab": {
          "base_uri": "https://localhost:8080/",
          "height": 221
        }
      },
      "source": [
        "X_test[10]"
      ],
      "execution_count": 0,
      "outputs": [
        {
          "output_type": "execute_result",
          "data": {
            "text/plain": [
              "array([    0,     0,     0,     0,     0,     0,     0,     0,     0,\n",
              "           0,     0,     0,     0,     0,     0,     0,     0,     0,\n",
              "           0,     0,  1373,     3,    20,   597,     1,  1121,    73,\n",
              "        1240,    10,   171,     9,  5990,   280,  2923,   107,    14,\n",
              "          83,    57,   444,     4,  1373,    13,     8,    14,   379,\n",
              "        5990,   280,  2923,  6980,    15,     1, 16840,  1373,     4,\n",
              "           1,  3782,     9,     8,    93,   280, 14350,    13, 16840,\n",
              "        1373,     8,    41,  2573,    10,     2,   454,   324,     5,\n",
              "          34,  1356,  1037,  1963,     1, 15775,     1,   888,     8,\n",
              "           9,  1258,   280,  2923,   209,   903,     1,  3038,    17,\n",
              "        1373,    27, 18743,     2,  3150,     1,  3782,  1055,     1,\n",
              "       15775], dtype=int32)"
            ]
          },
          "metadata": {
            "tags": []
          },
          "execution_count": 24
        }
      ]
    },
    {
      "cell_type": "code",
      "metadata": {
        "id": "T99lUa5b3hv1",
        "colab_type": "code",
        "colab": {}
      },
      "source": [
        "%matplotlib inline\n",
        "\n",
        "import pandas as pd\n",
        "import numpy as np\n",
        "import matplotlib.pyplot as plt\n",
        "\n",
        "from sklearn.model_selection import train_test_split\n",
        "from sklearn.preprocessing import LabelEncoder\n",
        "\n",
        "import tensorflow as tf\n",
        "\n",
        "from tensorflow.keras.models import Model\n",
        "from tensorflow.keras.layers import LSTM, Dense, Dropout, Input, Embedding, GlobalMaxPooling1D\n",
        "from tensorflow.keras.optimizers import RMSprop\n",
        "\n",
        "from tensorflow.keras.preprocessing.text import Tokenizer\n",
        "from tensorflow.keras.preprocessing import sequence\n",
        "from tensorflow.keras.utils import to_categorical\n",
        "\n",
        "\n",
        "from tensorflow.keras.callbacks import EarlyStopping"
      ],
      "execution_count": 0,
      "outputs": []
    },
    {
      "cell_type": "code",
      "metadata": {
        "id": "e-_mvjnp7lFi",
        "colab_type": "code",
        "colab": {}
      },
      "source": [
        "Inp = Input(name='inputs',shape=[max_len])\n",
        "x = Embedding(max_words,50,input_length=max_len)(Inp)\n",
        "x = LSTM(64,name='LSTM_01')(x)\n",
        "# x = Dense(256,activation='relu',name='Dense_01')(x)\n",
        "x = Dropout(0.2,name='Dropout')(x)\n",
        "out = Dense(6,activation='sigmoid', name='output')(x)\n"
      ],
      "execution_count": 0,
      "outputs": []
    },
    {
      "cell_type": "code",
      "metadata": {
        "id": "AAuIckcJ76-C",
        "colab_type": "code",
        "colab": {}
      },
      "source": [
        "model = Model(inputs=Inp,outputs=out)"
      ],
      "execution_count": 0,
      "outputs": []
    },
    {
      "cell_type": "code",
      "metadata": {
        "id": "r5hfLOUe6VRQ",
        "colab_type": "code",
        "colab": {}
      },
      "source": [
        "model.compile(loss='binary_crossentropy',optimizer=Adam(0.01),metrics=['accuracy'])"
      ],
      "execution_count": 0,
      "outputs": []
    },
    {
      "cell_type": "code",
      "metadata": {
        "id": "hoZzjpPM6ZWU",
        "colab_type": "code",
        "outputId": "517f46f4-c293-48ec-e56d-ebe8731613f5",
        "colab": {
          "base_uri": "https://localhost:8080/",
          "height": 323
        }
      },
      "source": [
        "model.summary()"
      ],
      "execution_count": 0,
      "outputs": [
        {
          "output_type": "stream",
          "text": [
            "Model: \"model\"\n",
            "_________________________________________________________________\n",
            "Layer (type)                 Output Shape              Param #   \n",
            "=================================================================\n",
            "inputs (InputLayer)          [(None, 100)]             0         \n",
            "_________________________________________________________________\n",
            "embedding (Embedding)        (None, 100, 50)           1000000   \n",
            "_________________________________________________________________\n",
            "LSTM_01 (LSTM)               (None, 64)                29440     \n",
            "_________________________________________________________________\n",
            "Dropout (Dropout)            (None, 64)                0         \n",
            "_________________________________________________________________\n",
            "output (Dense)               (None, 6)                 390       \n",
            "=================================================================\n",
            "Total params: 1,029,830\n",
            "Trainable params: 1,029,830\n",
            "Non-trainable params: 0\n",
            "_________________________________________________________________\n"
          ],
          "name": "stdout"
        }
      ]
    },
    {
      "cell_type": "code",
      "metadata": {
        "id": "aaZytwLZ8vlH",
        "colab_type": "code",
        "colab": {}
      },
      "source": [
        "early_stop = EarlyStopping(monitor='val_loss',min_delta=0.0001)"
      ],
      "execution_count": 0,
      "outputs": []
    },
    {
      "cell_type": "code",
      "metadata": {
        "id": "u2fRgnwi7FIR",
        "colab_type": "code",
        "outputId": "f01d684f-ea19-4aea-e3e0-f7395a555827",
        "colab": {
          "base_uri": "https://localhost:8080/",
          "height": 136
        }
      },
      "source": [
        "model.fit(X_train,y_train,\n",
        "          batch_size=128,\n",
        "          epochs=10,\n",
        "          validation_data=(X_test, y_test),\n",
        "          callbacks=[early_stop])\n",
        "# model.fit(X_train,y_train,\n",
        "#           batch_size=128,\n",
        "#           epochs=10,\n",
        "#           validation_data=(X_test, y_test))"
      ],
      "execution_count": 0,
      "outputs": [
        {
          "output_type": "stream",
          "text": [
            "Epoch 1/10\n",
            "1247/1247 [==============================] - 45s 36ms/step - loss: 0.0626 - accuracy: 0.9766 - val_loss: 0.0700 - val_accuracy: 0.9975\n",
            "Epoch 2/10\n",
            "1247/1247 [==============================] - 45s 36ms/step - loss: 0.0470 - accuracy: 0.9887 - val_loss: 0.0657 - val_accuracy: 0.9974\n",
            "Epoch 3/10\n",
            "1247/1247 [==============================] - 44s 36ms/step - loss: 0.0421 - accuracy: 0.9768 - val_loss: 0.0732 - val_accuracy: 0.9969\n"
          ],
          "name": "stdout"
        },
        {
          "output_type": "execute_result",
          "data": {
            "text/plain": [
              "<tensorflow.python.keras.callbacks.History at 0x7f21bb324b70>"
            ]
          },
          "metadata": {
            "tags": []
          },
          "execution_count": 31
        }
      ]
    }
  ]
}